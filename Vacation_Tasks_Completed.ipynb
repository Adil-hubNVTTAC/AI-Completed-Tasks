{
  "nbformat": 4,
  "nbformat_minor": 0,
  "metadata": {
    "colab": {
      "provenance": []
    },
    "kernelspec": {
      "name": "python3",
      "display_name": "Python 3"
    },
    "language_info": {
      "name": "python"
    }
  },
  "cells": [
    {
      "cell_type": "markdown",
      "source": [
        "Perform operations like indexing, slicing and iterating through lists, tuples, dictionaries and sets in python"
      ],
      "metadata": {
        "id": "l0C6eWtGzL0M"
      }
    },
    {
      "cell_type": "code",
      "source": [
        "# Create a list\n",
        "my_list = [1, 2, 3, 4, 5]\n",
        "\n",
        "# Indexing\n",
        "print(my_list[0])   # Output: 1 (first element)\n",
        "print(my_list[-1])  # Output: 5 (last element)\n",
        "\n",
        "# Slicing\n",
        "print(my_list[1:4]) # Output: [2, 3, 4] (elements from index 1 to 3)\n",
        "print(my_list[:3])  # Output: [1, 2, 3] (first 3 elements)\n",
        "print(my_list[2:])  # Output: [3, 4, 5] (elements from index 2 to end)\n",
        "print(my_list[::-1])# Output: [5, 4, 3, 2, 1] (reversed list)\n",
        "# Iterating through a list\n",
        "for item in my_list:\n",
        "    print(item)"
      ],
      "metadata": {
        "colab": {
          "base_uri": "https://localhost:8080/"
        },
        "id": "uTk4jS1nzRMV",
        "outputId": "a1bbba3b-5a9d-41f7-f7f8-caa455bd6b48"
      },
      "execution_count": 1,
      "outputs": [
        {
          "output_type": "stream",
          "name": "stdout",
          "text": [
            "1\n",
            "5\n",
            "[2, 3, 4]\n",
            "[1, 2, 3]\n",
            "[3, 4, 5]\n",
            "[5, 4, 3, 2, 1]\n",
            "1\n",
            "2\n",
            "3\n",
            "4\n",
            "5\n"
          ]
        }
      ]
    },
    {
      "cell_type": "code",
      "source": [
        "# Create a tuple\n",
        "my_tuple = (1, 2, 3, 4, 5)\n",
        "\n",
        "# Indexing\n",
        "print(my_tuple[0])   # Output: 1 (first element)\n",
        "print(my_tuple[-1])  # Output: 5 (last element)\n",
        "\n",
        "# Slicing\n",
        "print(my_tuple[1:4]) # Output: (2, 3, 4) (elements from index 1 to 3)\n",
        "print(my_tuple[:3])  # Output: (1, 2, 3) (first 3 elements)\n",
        "print(my_tuple[2:])  # Output: (3, 4, 5) (elements from index 2 to end)\n",
        "print(my_tuple[::-1])# Output: (5, 4, 3, 2, 1) (reversed tuple)\n",
        "# Iterating through a tuple\n",
        "for item in my_tuple:\n",
        "    print(item)"
      ],
      "metadata": {
        "id": "rdEcOo42zfBx"
      },
      "execution_count": null,
      "outputs": []
    },
    {
      "cell_type": "code",
      "source": [
        "# Create a dictionary\n",
        "my_dict = {'a': 1, 'b': 2, 'c': 3}\n",
        "\n",
        "# Indexing (Key Access)\n",
        "print(my_dict['a'])  # Output: 1\n",
        "print(my_dict['c'])  # Output: 3# Iterating through keys\n",
        "for key in my_dict:\n",
        "    print(key, my_dict[key])\n",
        "\n",
        "# Iterating through key-value pairs\n",
        "for key, value in my_dict.items():\n",
        "    print(key, value)"
      ],
      "metadata": {
        "id": "4eOdD0zTzi4T"
      },
      "execution_count": null,
      "outputs": []
    },
    {
      "cell_type": "code",
      "source": [
        "# Create a set\n",
        "my_set = {1, 2, 3, 4, 5}\n",
        "\n",
        "# Cannot index or slice directly\n",
        "# Example:\n",
        "# print(my_set[0])  # Error: 'set' object does not support indexing\n",
        "# print(my_set[1:4])# Error: 'set' object is not subscriptable\n",
        "# Iterating through a set\n",
        "for item in my_set:\n",
        "    print(item)"
      ],
      "metadata": {
        "id": "bUSzrQzDzwbF"
      },
      "execution_count": null,
      "outputs": []
    },
    {
      "cell_type": "markdown",
      "source": [
        "Write python code to demonstrate the use of variables, expressions and statements. Create examples showcasing different data types like Numbers, Boolean, Strings, Lists, Tuples, Dictionaries and Sets in python."
      ],
      "metadata": {
        "id": "xoLBEQhuz0wq"
      }
    },
    {
      "cell_type": "code",
      "source": [
        "# Integer variable\n",
        "x = 5\n",
        "\n",
        "# Float variable\n",
        "y = 3.14\n",
        "\n",
        "# Expression\n",
        "result = x + y * 2\n",
        "\n",
        "# Print statement\n",
        "print(\"Result:\", result)"
      ],
      "metadata": {
        "id": "H7iO92dZ0sc5"
      },
      "execution_count": null,
      "outputs": []
    },
    {
      "cell_type": "code",
      "source": [
        "# Boolean variables\n",
        "is_raining = True\n",
        "is_sunny = False\n",
        "\n",
        "# Expression with boolean operators\n",
        "is_weather_good = is_raining and not is_sunny\n",
        "\n",
        "# Print statement\n",
        "print(\"Is the weather good?\", is_weather_good)"
      ],
      "metadata": {
        "id": "iHTF6JkH09Sm"
      },
      "execution_count": null,
      "outputs": []
    },
    {
      "cell_type": "code",
      "source": [
        "# String variable\n",
        "name = \"Alice\"\n",
        "\n",
        "# Expression with string concatenation\n",
        "greeting = \"Hello, \" + name + \"!\"\n",
        "\n",
        "# Print statement\n",
        "print(greeting)"
      ],
      "metadata": {
        "id": "ATiLVEG20_02"
      },
      "execution_count": null,
      "outputs": []
    },
    {
      "cell_type": "code",
      "source": [
        "# List variable\n",
        "my_list = [1, 2, 3, 4, 5]\n",
        "\n",
        "# Expression with list indexing\n",
        "list_element = my_list[2]\n",
        "\n",
        "# Print statement\n",
        "print(\"Element at index 2:\", list_element)"
      ],
      "metadata": {
        "id": "Cn12VWwk1CRB"
      },
      "execution_count": null,
      "outputs": []
    },
    {
      "cell_type": "code",
      "source": [
        "# Tuple variable\n",
        "my_tuple = (10, 20, 30)\n",
        "\n",
        "# Expression with tuple unpacking\n",
        "a, b, c = my_tuple\n",
        "\n",
        "# Print statement\n",
        "print(\"Tuple unpacking:\", a, b, c)"
      ],
      "metadata": {
        "id": "MLKjCbgw1FFK"
      },
      "execution_count": null,
      "outputs": []
    },
    {
      "cell_type": "code",
      "source": [
        "# Dictionary variable\n",
        "my_dict = {'name': 'Bob', 'age': 30, 'city': 'New York'}\n",
        "\n",
        "# Expression with dictionary access\n",
        "age = my_dict['age']\n",
        "\n",
        "# Print statement\n",
        "print(\"Age:\", age)"
      ],
      "metadata": {
        "id": "7W0uDG9e1HmQ"
      },
      "execution_count": null,
      "outputs": []
    },
    {
      "cell_type": "code",
      "source": [
        "# Set variable\n",
        "my_set = {1, 2, 3, 4, 5}\n",
        "\n",
        "# Expression with set operations\n",
        "my_set.add(6)\n",
        "set_length = len(my_set)\n",
        "\n",
        "# Print statement\n",
        "print(\"Set after adding element:\", my_set)\n",
        "print(\"Length of set:\", set_length)"
      ],
      "metadata": {
        "id": "YATEOsbK1Kk3"
      },
      "execution_count": null,
      "outputs": []
    }
  ]
}