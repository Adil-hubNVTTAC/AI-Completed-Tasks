{
  "nbformat": 4,
  "nbformat_minor": 0,
  "metadata": {
    "colab": {
      "provenance": []
    },
    "kernelspec": {
      "name": "python3",
      "display_name": "Python 3"
    },
    "language_info": {
      "name": "python"
    }
  },
  "cells": [
    {
      "cell_type": "markdown",
      "source": [
        "Write Python programs incorporating if, elif, and else\n",
        "statements for decision-making. Include break, continue, and pass\n",
        "statements within loops"
      ],
      "metadata": {
        "id": "PfpGG735PTWA"
      }
    },
    {
      "cell_type": "code",
      "source": [
        "# Using break, continue, and pass in loops\n",
        "\n",
        "# Break example\n",
        "print(\"Example of break:\")\n",
        "for i in range(1, 6):\n",
        "    if i == 4:\n",
        "        break  # Exit the loop when i is 4\n",
        "    print(i, end=' ')\n",
        "print()\n",
        "\n",
        "# Continue example\n",
        "print(\"\\nExample of continue:\")\n",
        "for j in range(1, 6):\n",
        "    if j == 3:\n",
        "        continue  # Skip printing 3\n",
        "    print(j, end=' ')\n",
        "print()\n",
        "\n",
        "# Pass example (pass does nothing)\n",
        "print(\"\\nExample of pass:\")\n",
        "for k in range(1, 6):\n",
        "    if k == 2:\n",
        "        pass  # Does nothing and continues\n",
        "    print(k, end=' ')"
      ],
      "metadata": {
        "colab": {
          "base_uri": "https://localhost:8080/"
        },
        "id": "0D649lSEQRQt",
        "outputId": "b5747fab-3f71-4b04-d68a-ea3b01ea388d"
      },
      "execution_count": 1,
      "outputs": [
        {
          "output_type": "stream",
          "name": "stdout",
          "text": [
            "Example of break:\n",
            "1 2 3 \n",
            "\n",
            "Example of continue:\n",
            "1 2 4 5 \n",
            "\n",
            "Example of pass:\n",
            "1 2 3 4 5 "
          ]
        }
      ]
    },
    {
      "cell_type": "markdown",
      "source": [
        "Implement while and for loops to solve practical problems.\n",
        "Utilize nested loops and conditional expressions in solving\n",
        "algorithmic challenges"
      ],
      "metadata": {
        "id": "JSKCjYboQ1PM"
      }
    },
    {
      "cell_type": "code",
      "source": [
        "# Using nested loops and conditional expressions to find prime numbers between 1 and 20\n",
        "print(\"Prime numbers between 1 and 20:\")\n",
        "for num in range(2, 21):\n",
        "    is_prime = True\n",
        "    for i in range(2, num):\n",
        "        if num % i == 0:\n",
        "            is_prime = False\n",
        "            break\n",
        "    if is_prime:\n",
        "        print(num, end=' ')\n",
        "print()"
      ],
      "metadata": {
        "colab": {
          "base_uri": "https://localhost:8080/"
        },
        "id": "2ak4UHFyRAxh",
        "outputId": "099fe98d-5f7d-4fd6-f12f-7a8ad10dbfcc"
      },
      "execution_count": 2,
      "outputs": [
        {
          "output_type": "stream",
          "name": "stdout",
          "text": [
            "Prime numbers between 1 and 20:\n",
            "2 3 5 7 11 13 17 19 \n"
          ]
        }
      ]
    }
  ]
}