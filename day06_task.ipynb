{
  "cells": [
    {
      "cell_type": "markdown",
      "metadata": {
        "id": "view-in-github",
        "colab_type": "text"
      },
      "source": [
        "<a href=\"https://colab.research.google.com/github/Adil-hubNVTTAC/AI-Completed-Tasks/blob/main/day06_task.ipynb\" target=\"_parent\"><img src=\"https://colab.research.google.com/assets/colab-badge.svg\" alt=\"Open In Colab\"/></a>"
      ]
    },
    {
      "cell_type": "markdown",
      "metadata": {
        "id": "qjpu59RiRXsL"
      },
      "source": [
        "# Object-Oriented Programming (OOP) Tasks"
      ],
      "id": "qjpu59RiRXsL"
    },
    {
      "cell_type": "markdown",
      "metadata": {
        "id": "AB9NJb-_RXsl"
      },
      "source": [
        "## Task 1: Library Management System\n",
        "\n",
        "### Pseudocode\n",
        "1. Define a class named `Library`.\n",
        "2. Initialize `Library` with `name` and `location`.\n",
        "3. Implement a method to display library details.\n",
        "4. Use encapsulation to protect library details.\n",
        "5. Define a subclass `DigitalLibrary` that inherits from `Library`.\n",
        "6. Add additional attributes `num_ebooks` to `DigitalLibrary`.\n",
        "7. Override the method to display library details in `DigitalLibrary` to include the number of e-books."
      ],
      "id": "AB9NJb-_RXsl"
    },
    {
      "cell_type": "code",
      "execution_count": null,
      "metadata": {
        "colab": {
          "base_uri": "https://localhost:8080/"
        },
        "id": "aLAE2vxyRXsq",
        "outputId": "6b458bbb-fe64-48bd-f87f-ac883093a8ac"
      },
      "outputs": [
        {
          "output_type": "stream",
          "name": "stdout",
          "text": [
            "Added Python Programming to the library\n",
            "Added Data Structures and Algorithms to the library\n",
            "Books in Digital Archive Library:\n",
            "- Python Programming\n",
            "- Data Structures and Algorithms\n",
            "Library Name: Digital Archive\n",
            "Location: Online\n",
            "Number of E-books: 5000\n"
          ]
        }
      ],
      "source": [
        "# Task 1: Library Management System\n",
        "# Write your code here\n",
        "# Define the Library class (superclass)\n",
        "class Library:\n",
        "    # Constructor method to initialize attributes\n",
        "    def __init__(self, name, location):\n",
        "        self.__name = name          # Private instance variable\n",
        "        self.__location = location  # Private instance variable\n",
        "        self.__books = []           # Private instance variable to store books\n",
        "\n",
        "    # Method to add a book to the library\n",
        "    def add_book(self, book):\n",
        "        self.__books.append(book)\n",
        "        print(f\"Added {book} to the library\")\n",
        "\n",
        "    # Method to display all books in the library\n",
        "    def display_books(self):\n",
        "        if self.__books:\n",
        "            print(f\"Books in {self.__name} Library:\")\n",
        "            for book in self.__books:\n",
        "                print(f\"- {book}\")\n",
        "        else:\n",
        "            print(\"No books in the library yet\")\n",
        "\n",
        "    # Getter method to access library name\n",
        "    def get_library_name(self):\n",
        "        return self.__name\n",
        "\n",
        "    # Setter method to update library location\n",
        "    def set_library_location(self, new_location):\n",
        "        self.__location = new_location\n",
        "        print(f\"Library location updated to {self.__location}\")\n",
        "\n",
        "    # Method to display library details\n",
        "    def display_library_details(self):\n",
        "        print(f\"Library Name: {self.__name}\")\n",
        "        print(f\"Location: {self.__location}\")\n",
        "\n",
        "# Define the DigitalLibrary class (subclass of Library)\n",
        "class DigitalLibrary(Library):\n",
        "    # Constructor method to initialize attributes including num_ebooks\n",
        "    def __init__(self, name, location, num_ebooks):\n",
        "        super().__init__(name, location)  # Call superclass constructor\n",
        "        self.num_ebooks = num_ebooks      # Additional attribute for digital library\n",
        "\n",
        "    # Override method to display library details including num_ebooks\n",
        "    def display_library_details(self):\n",
        "        super().display_library_details()  # Call superclass method\n",
        "        print(f\"Number of E-books: {self.num_ebooks}\")\n",
        "\n",
        "# Creating an instance (object) of the DigitalLibrary class\n",
        "digital_library = DigitalLibrary(\"Digital Archive\", \"Online\", 5000)\n",
        "\n",
        "# Using methods to interact with the DigitalLibrary object\n",
        "digital_library.add_book(\"Python Programming\")\n",
        "digital_library.add_book(\"Data Structures and Algorithms\")\n",
        "digital_library.display_books()\n",
        "digital_library.display_library_details()"
      ],
      "id": "aLAE2vxyRXsq"
    },
    {
      "cell_type": "markdown",
      "metadata": {
        "id": "fqhMmXFmRXsw"
      },
      "source": [
        "## Task 2: Employee Management System\n",
        "\n",
        "### Pseudocode\n",
        "1. Define a class named `Employee`.\n",
        "2. Initialize `Employee` with `name`, `position`, and `salary`.\n",
        "3. Implement a method to display employee details.\n",
        "4. Use class-level attribute to store the company name.\n",
        "5. Define a subclass `Manager` that inherits from `Employee`.\n",
        "6. Add additional attributes `department` to `Manager`.\n",
        "7. Implement a static method to check if an employee is eligible for a bonus based on their position.\n",
        "8. Implement a class method to change the company name."
      ],
      "id": "fqhMmXFmRXsw"
    },
    {
      "cell_type": "code",
      "execution_count": null,
      "metadata": {
        "colab": {
          "base_uri": "https://localhost:8080/"
        },
        "id": "3iTfldK-RXsz",
        "outputId": "a1979429-712d-449e-ceab-ffd797564789"
      },
      "outputs": [
        {
          "output_type": "stream",
          "name": "stdout",
          "text": [
            "--- Employee Details ---\n",
            "Name: John Doe\n",
            "Position: Software Engineer\n",
            "Salary: $60000\n",
            "Company: ABC Company\n",
            "\n",
            "--- Manager Details ---\n",
            "Name: Jane Smith\n",
            "Position: Manager\n",
            "Salary: $80000\n",
            "Company: ABC Company\n",
            "\n",
            "Bonus Eligibility Check:\n",
            "John Doe is eligible for bonus: False\n",
            "Jane Smith is eligible for bonus: True\n",
            "\n",
            "Updated Company Name:\n",
            "Name: John Doe\n",
            "Position: Software Engineer\n",
            "Salary: $60000\n",
            "Company: ABC Company\n"
          ]
        }
      ],
      "source": [
        "# Task 2: Employee Management System\n",
        "# Write your code here\n",
        "# Define the Employee class\n",
        "class Employee:\n",
        "    # Class attribute for company name\n",
        "    company_name = \"ABC Company\"\n",
        "\n",
        "    # Constructor method to initialize attributes\n",
        "    def __init__(self, name, position, salary):\n",
        "        self.name = name        # Instance variable\n",
        "        self.position = position  # Instance variable\n",
        "        self.salary = salary    # Instance variable\n",
        "\n",
        "    # Method to display employee details\n",
        "    def display_details(self):\n",
        "        print(f\"Name: {self.name}\")\n",
        "        print(f\"Position: {self.position}\")\n",
        "        print(f\"Salary: ${self.salary}\")\n",
        "        print(f\"Company: {Employee.company_name}\")  # Accessing class attribute\n",
        "\n",
        "# Define the Manager class (subclass of Employee)\n",
        "class Manager(Employee):\n",
        "    # Constructor method to initialize attributes including department\n",
        "    def __init__(self, name, position, salary, department):\n",
        "        super().__init__(name, position, salary)  # Call superclass constructor\n",
        "        self.department = department  # Additional attribute for Manager\n",
        "\n",
        "    # Static method to check if employee is eligible for a bonus\n",
        "    @staticmethod\n",
        "    def is_eligible_for_bonus(position):\n",
        "        bonus_positions = [\"Manager\", \"Senior Manager\", \"Director\"]\n",
        "        return position in bonus_positions\n",
        "\n",
        "    # Class method to change company name\n",
        "    @classmethod\n",
        "    def change_company_name(cls, new_name):\n",
        "        cls.company_name = new_name\n",
        "\n",
        "# Creating instances (objects) of Employee and Manager classes\n",
        "employee1 = Employee(\"John Doe\", \"Software Engineer\", 60000)\n",
        "manager1 = Manager(\"Jane Smith\", \"Manager\", 80000, \"IT\")\n",
        "\n",
        "# Displaying employee and manager details\n",
        "print(\"--- Employee Details ---\")\n",
        "employee1.display_details()\n",
        "print(\"\\n--- Manager Details ---\")\n",
        "manager1.display_details()\n",
        "\n",
        "# Checking bonus eligibility using static method\n",
        "print(\"\\nBonus Eligibility Check:\")\n",
        "print(f\"{employee1.name} is eligible for bonus:\", Manager.is_eligible_for_bonus(employee1.position))\n",
        "print(f\"{manager1.name} is eligible for bonus:\", Manager.is_eligible_for_bonus(manager1.position))\n",
        "\n",
        "# Changing company name using class method\n",
        "Manager.change_company_name(\"XYZ Corporation\")\n",
        "\n",
        "# Displaying updated company name\n",
        "print(\"\\nUpdated Company Name:\")\n",
        "employee1.display_details()  # Company name updated for all instances"
      ],
      "id": "3iTfldK-RXsz"
    },
    {
      "cell_type": "markdown",
      "metadata": {
        "id": "jAu5YcaARXs3"
      },
      "source": [
        "## Task 3: Restaurant Management System\n",
        "\n",
        "### Pseudocode\n",
        "1. Define a class named `Restaurant`.\n",
        "2. Initialize `Restaurant` with `name`, `cuisine_type`, and `location`.\n",
        "3. Implement a method to display restaurant details.\n",
        "4. Use encapsulation to protect restaurant details.\n",
        "5. Define a subclass `FranchiseRestaurant` that inherits from `Restaurant`.\n",
        "6. Add additional attributes `num_branches` to `FranchiseRestaurant`.\n",
        "7. Override the method to display restaurant details in `FranchiseRestaurant` to include the number of branches.\n",
        "8. Implement a static method to check if a restaurant is open based on the day of the week.\n",
        "9. Implement a class method to update the cuisine type of all instances."
      ],
      "id": "jAu5YcaARXs3"
    },
    {
      "cell_type": "code",
      "execution_count": null,
      "metadata": {
        "colab": {
          "base_uri": "https://localhost:8080/"
        },
        "id": "UzRK-yR8RXs5",
        "outputId": "4a898a24-6ca8-4156-d614-f4730bfd2d1a"
      },
      "outputs": [
        {
          "output_type": "stream",
          "name": "stdout",
          "text": [
            "--- Restaurant Details ---\n",
            "Name: Italiano Pizzeria\n",
            "Cuisine Type: Italian\n",
            "Location: Downtown\n",
            "\n",
            "--- Franchise Restaurant Details ---\n",
            "Name: Burger Palace\n",
            "Cuisine Type: Burgers\n",
            "Location: Midtown\n",
            "Number of Branches: 5\n",
            "\n",
            "Is Italiano Pizzeria open on Monday? True\n",
            "Is Burger Palace open on Saturday? False\n",
            "\n",
            "--- Updated Cuisine Type ---\n",
            "Name: Italiano Pizzeria\n",
            "Cuisine Type: Italian\n",
            "Location: Downtown\n",
            "Name: Burger Palace\n",
            "Cuisine Type: Burgers\n",
            "Location: Midtown\n",
            "Number of Branches: 5\n"
          ]
        }
      ],
      "source": [
        "# Task 3: Restaurant Management System\n",
        "# Write your code here\n",
        "# Define the Restaurant class\n",
        "class Restaurant:\n",
        "    # Constructor method to initialize attributes\n",
        "    def __init__(self, name, cuisine_type, location):\n",
        "        self.__name = name            # Private instance variable\n",
        "        self.__cuisine_type = cuisine_type  # Private instance variable\n",
        "        self.__location = location    # Private instance variable\n",
        "\n",
        "    # Method to display restaurant details\n",
        "    def display_details(self):\n",
        "        print(f\"Name: {self.__name}\")\n",
        "        print(f\"Cuisine Type: {self.__cuisine_type}\")\n",
        "        print(f\"Location: {self.__location}\")\n",
        "\n",
        "    # Getter method to access restaurant name\n",
        "    def get_name(self):\n",
        "        return self.__name\n",
        "\n",
        "    # Static method to check if the restaurant is open\n",
        "    @staticmethod\n",
        "    def is_open(day_of_week):\n",
        "        open_days = [\"Monday\", \"Tuesday\", \"Wednesday\", \"Thursday\", \"Friday\"]\n",
        "        return day_of_week in open_days\n",
        "\n",
        "    # Class method to update cuisine type for all instances\n",
        "    @classmethod\n",
        "    def update_cuisine_type(cls, new_cuisine_type):\n",
        "        cls.default_cuisine_type = new_cuisine_type\n",
        "\n",
        "# Define the FranchiseRestaurant class (subclass of Restaurant)\n",
        "class FranchiseRestaurant(Restaurant):\n",
        "    # Constructor method to initialize attributes including num_branches\n",
        "    def __init__(self, name, cuisine_type, location, num_branches):\n",
        "        super().__init__(name, cuisine_type, location)  # Call superclass constructor\n",
        "        self.num_branches = num_branches  # Additional attribute for FranchiseRestaurant\n",
        "\n",
        "    # Override method to display restaurant details including num_branches\n",
        "    def display_details(self):\n",
        "        super().display_details()  # Call superclass method\n",
        "        print(f\"Number of Branches: {self.num_branches}\")\n",
        "\n",
        "# Creating instances (objects) of Restaurant and FranchiseRestaurant classes\n",
        "restaurant1 = Restaurant(\"Italiano Pizzeria\", \"Italian\", \"Downtown\")\n",
        "franchise_restaurant1 = FranchiseRestaurant(\"Burger Palace\", \"Burgers\", \"Midtown\", 5)\n",
        "\n",
        "# Displaying restaurant and franchise restaurant details\n",
        "print(\"--- Restaurant Details ---\")\n",
        "restaurant1.display_details()\n",
        "\n",
        "print(\"\\n--- Franchise Restaurant Details ---\")\n",
        "franchise_restaurant1.display_details()\n",
        "\n",
        "# Checking if restaurant is open using static method\n",
        "print(\"\\nIs Italiano Pizzeria open on Monday?\", Restaurant.is_open(\"Monday\"))\n",
        "print(\"Is Burger Palace open on Saturday?\", FranchiseRestaurant.is_open(\"Saturday\"))\n",
        "\n",
        "# Updating cuisine type using class method\n",
        "Restaurant.update_cuisine_type(\"International\")\n",
        "print(\"\\n--- Updated Cuisine Type ---\")\n",
        "restaurant1.display_details()\n",
        "franchise_restaurant1.display_details()"
      ],
      "id": "UzRK-yR8RXs5"
    }
  ],
  "metadata": {
    "kernelspec": {
      "display_name": "Python 3",
      "language": "python",
      "name": "python3"
    },
    "language_info": {
      "codemirror_mode": {
        "name": "ipython",
        "version": 3
      },
      "file_extension": ".py",
      "mimetype": "text/x-python",
      "name": "python",
      "nbconvert_exporter": "python",
      "pygments_lexer": "ipython3",
      "version": "3.9.13"
    },
    "colab": {
      "provenance": [],
      "include_colab_link": true
    }
  },
  "nbformat": 4,
  "nbformat_minor": 5
}