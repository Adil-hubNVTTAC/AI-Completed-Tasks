{
  "cells": [
    {
      "cell_type": "markdown",
      "metadata": {
        "id": "-Dseq0OH8fE_"
      },
      "source": [
        "# Python Fundamentals Guide\n",
        "\n",
        "## 1. Values, Expressions, and Statements\n",
        "\n",
        "### Values\n",
        "**Definition:**\n",
        "- Values are the fundamental units of data in Python.\n",
        "\n",
        "**Examples:**\n",
        "- Numeric values: `42`, `3.14`\n",
        "- String values: `'Hello, World!'`\n",
        "- Boolean values: `True`, `False`\n",
        "\n",
        "**Use Cases:**\n",
        "- **Numbers:** Used in calculations and measurements.\n",
        "  ```python\n",
        "  age = 25\n",
        "  pi = 3.14\n",
        "  ```\n",
        "- **Strings:** Used for textual data.\n",
        "  ```python\n",
        "  greeting = \"Hello, World!\"\n",
        "  ```\n",
        "- **Booleans:** Used for logical conditions.\n",
        "  ```python\n",
        "  is_student = True\n",
        "  ```\n"
      ],
      "id": "-Dseq0OH8fE_"
    },
    {
      "cell_type": "code",
      "metadata": {
        "id": "wzBai5VE8fFF"
      },
      "source": [
        "# Numbers\n",
        "age = 25\n",
        "pi = 3.14\n",
        "\n",
        "# Strings\n",
        "greeting = \"Hello, World!\"\n",
        "\n",
        "# Booleans\n",
        "is_student = True\n"
      ],
      "id": "wzBai5VE8fFF",
      "execution_count": null,
      "outputs": []
    },
    {
      "cell_type": "markdown",
      "metadata": {
        "id": "YtU3gimd8fFH"
      },
      "source": [
        "### Expressions\n",
        "**Definition:**\n",
        "- Expressions are combinations of values and operators that can be evaluated to yield another value.\n",
        "\n",
        "**Examples:**\n",
        "- Arithmetic expressions: `3 + 4`\n",
        "- Function call: `len('Hello')`\n"
      ],
      "id": "YtU3gimd8fFH"
    },
    {
      "cell_type": "code",
      "metadata": {
        "id": "NMtYhEza8fFI"
      },
      "source": [
        "# Expressions\n",
        "result = 3 + 4\n",
        "length = len('Hello')\n"
      ],
      "id": "NMtYhEza8fFI",
      "execution_count": null,
      "outputs": []
    },
    {
      "cell_type": "markdown",
      "metadata": {
        "id": "l2OcERTU8fFI"
      },
      "source": [
        "### Statements\n",
        "**Definition:**\n",
        "- Statements are instructions that the Python interpreter can execute.\n",
        "\n",
        "**Examples:**\n",
        "- Assignment: `x = 5`\n",
        "- Print statement: `print('Hello, World!')`\n"
      ],
      "id": "l2OcERTU8fFI"
    },
    {
      "cell_type": "code",
      "metadata": {
        "id": "nA6GITHo8fFJ"
      },
      "source": [
        "# Statements\n",
        "x = 5\n",
        "print('Hello, World!')\n"
      ],
      "id": "nA6GITHo8fFJ",
      "execution_count": null,
      "outputs": []
    },
    {
      "cell_type": "markdown",
      "metadata": {
        "id": "ls0hXQLV8fFJ"
      },
      "source": [
        "**Real-Life Example:**\n",
        "- **Problem:** Calculate the total price of items in a shopping cart.\n",
        "  ```python\n",
        "  item1_price = 15.50  # Value\n",
        "  item2_price = 12.75  # Value\n",
        "  total_price = item1_price + item2_price  # Expression and Statement\n",
        "  print(\"Total price:\", total_price)  # Statement\n",
        "  ```\n"
      ],
      "id": "ls0hXQLV8fFJ"
    },
    {
      "cell_type": "code",
      "metadata": {
        "id": "UPRPWDhu8fFK"
      },
      "source": [
        "# Real-Life Example\n",
        "item1_price = 15.50  # Value\n",
        "item2_price = 12.75  # Value\n",
        "total_price = item1_price + item2_price  # Expression and Statement\n",
        "print('Total price:', total_price)  # Statement\n"
      ],
      "id": "UPRPWDhu8fFK",
      "execution_count": null,
      "outputs": []
    },
    {
      "cell_type": "markdown",
      "metadata": {
        "id": "d1OvBgM98fFL"
      },
      "source": [
        "## 2. Numbers\n",
        "\n",
        "**Definition:**\n",
        "- Numbers are numeric data types used in arithmetic operations. They can be integers or floating-point numbers.\n",
        "\n",
        "**Types:**\n",
        "- **Integers (`int`):** Whole numbers without a fractional part.\n",
        "  ```python\n",
        "  x = 10\n",
        "  y = -5\n",
        "  ```\n",
        "- **Floating-point numbers (`float`):** Numbers with a fractional part.\n",
        "  ```python\n",
        "  pi = 3.14\n",
        "  temperature = -10.5\n",
        "  ```\n"
      ],
      "id": "d1OvBgM98fFL"
    },
    {
      "cell_type": "code",
      "metadata": {
        "id": "dsc9OkId8fFL"
      },
      "source": [
        "# Numbers\n",
        "x = 10\n",
        "y = -5\n",
        "pi = 3.14\n",
        "temperature = -10.5"
      ],
      "id": "dsc9OkId8fFL",
      "execution_count": null,
      "outputs": []
    },
    {
      "cell_type": "markdown",
      "metadata": {
        "id": "17N5Wx4T8fFM"
      },
      "source": [
        "**Perspectives:**\n",
        "\n",
        "### 1. Arithmetic Operations\n",
        "- Numbers are used in various arithmetic operations like addition, subtraction, multiplication, and division.\n",
        "  ```python\n",
        "  a = 10\n",
        "  b = 3\n",
        "  sum_ab = a + b  # Addition\n",
        "  diff_ab = a - b  # Subtraction\n",
        "  prod_ab = a * b  # Multiplication\n",
        "  div_ab = a / b  # Division\n",
        "  print(\"Sum:\", sum_ab, \"Difference:\", diff_ab, \"Product:\", prod_ab, \"Quotient:\", div_ab)\n",
        "  ```\n"
      ],
      "id": "17N5Wx4T8fFM"
    },
    {
      "cell_type": "code",
      "metadata": {
        "id": "gbuaSEsx8fFM"
      },
      "source": [
        "# Arithmetic Operations\n",
        "a = 10\n",
        "b = 3\n",
        "sum_ab = a + b  # Addition\n",
        "diff_ab = a - b  # Subtraction\n",
        "prod_ab = a * b  # Multiplication\n",
        "div_ab = a / b  # Division\n",
        "print('Sum:', sum_ab, 'Difference:', diff_ab, 'Product:', prod_ab, 'Quotient:', div_ab)\n"
      ],
      "id": "gbuaSEsx8fFM",
      "execution_count": null,
      "outputs": []
    },
    {
      "cell_type": "markdown",
      "metadata": {
        "id": "Roq4oaIC8fFN"
      },
      "source": [
        "### 2. Real-Life Application - Shopping Cart\n",
        "- Calculating the total price of items in a shopping cart.\n",
        "  ```python\n",
        "  item1_price = 20.5\n",
        "  item2_price = 35.75\n",
        "  total_price = item1_price + item2_price\n",
        "  print(\"Total Price:\", total_price)\n",
        "  ```\n"
      ],
      "id": "Roq4oaIC8fFN"
    },
    {
      "cell_type": "code",
      "metadata": {
        "id": "dm2Nfa0_8fFN"
      },
      "source": [
        "# Real-Life Application\n",
        "item1_price = 20.5\n",
        "item2_price = 35.75\n",
        "total_price = item1_price + item2_price\n",
        "print('Total Price:', total_price)\n"
      ],
      "id": "dm2Nfa0_8fFN",
      "execution_count": null,
      "outputs": []
    },
    {
      "cell_type": "markdown",
      "metadata": {
        "id": "L0tGK6rG8fFN"
      },
      "source": [
        "### 3. Scientific Calculations\n",
        "- Using numbers for scientific calculations like calculating the area of a circle.\n",
        "  ```python\n",
        "  radius = 5.0\n",
        "  pi = 3.14159\n",
        "  area = pi * (radius ** 2)\n",
        "  print(\"Area of the circle:\", area)\n",
        "  ```\n"
      ],
      "id": "L0tGK6rG8fFN"
    },
    {
      "cell_type": "code",
      "metadata": {
        "id": "yStiUP8O8fFO"
      },
      "source": [
        "# Scientific Calculations\n",
        "radius = 5.0\n",
        "pi = 3.14159\n",
        "area = pi * (radius ** 2)\n",
        "print('Area of the circle:', area)\n"
      ],
      "id": "yStiUP8O8fFO",
      "execution_count": null,
      "outputs": []
    },
    {
      "cell_type": "markdown",
      "metadata": {
        "id": "2AiMBu-I8fFO"
      },
      "source": [
        "### 4. Conditional Statements\n",
        "- Using numbers in conditional statements to make decisions.\n",
        "  ```python\n",
        "  age = 18\n",
        "  if age >= 18:\n",
        "      print(\"Eligible to vote\")\n",
        "  else:\n",
        "      print(\"Not eligible to vote\")\n",
        "  ```\n"
      ],
      "id": "2AiMBu-I8fFO"
    },
    {
      "cell_type": "code",
      "metadata": {
        "id": "1fdu8jeC8fFO"
      },
      "source": [
        "# Conditional Statements\n",
        "age = 18\n",
        "if age >= 18:\n",
        "    print('Eligible to vote')\n",
        "else:\n",
        "    print('Not eligible to vote')\n"
      ],
      "id": "1fdu8jeC8fFO",
      "execution_count": null,
      "outputs": []
    },
    {
      "cell_type": "markdown",
      "metadata": {
        "id": "Nnc-xnnt8fFP"
      },
      "source": [
        "### 5. Looping\n",
        "- Using numbers to control loops.\n",
        "  ```python\n",
        "  for i in range(1, 6):\n",
        "      print(\"Iteration number:\", i)\n",
        "  ```\n"
      ],
      "id": "Nnc-xnnt8fFP"
    },
    {
      "cell_type": "code",
      "metadata": {
        "id": "8zOMUnaB8fFP"
      },
      "source": [
        "# Looping\n",
        "for i in range(1, 6):\n",
        "    print('Iteration number:', i)\n"
      ],
      "id": "8zOMUnaB8fFP",
      "execution_count": null,
      "outputs": []
    },
    {
      "cell_type": "markdown",
      "metadata": {
        "id": "8rJz4noC8fFP"
      },
      "source": [
        "### 6. Data Analysis\n",
        "- Using numbers in data analysis to calculate statistics.\n",
        "  ```python\n",
        "  import statistics\n",
        "\n",
        "  data = [2.5, 3.5, 5.5, 6.5, 7.5]\n",
        "  mean = statistics.mean(data)\n",
        "  median = statistics.median(data)\n",
        "  print(\"Mean:\", mean, \"Median:\", median)\n",
        "  ```\n"
      ],
      "id": "8rJz4noC8fFP"
    },
    {
      "cell_type": "code",
      "metadata": {
        "id": "S5GuiIGF8fFQ"
      },
      "source": [
        "# Data Analysis\n",
        "import statistics\n",
        "\n",
        "data = [2.5, 3.5, 5.5, 6.5, 7.5]\n",
        "mean = statistics.mean(data)\n",
        "median = statistics.median(data)\n",
        "print('Mean:', mean, 'Median:', median)\n"
      ],
      "id": "S5GuiIGF8fFQ",
      "execution_count": null,
      "outputs": []
    },
    {
      "cell_type": "markdown",
      "metadata": {
        "id": "dAyuH87C8fFQ"
      },
      "source": [
        "## 3. Booleans\n",
        "\n",
        "**Definition:**\n",
        "- Booleans represent logical values, either `True` or `False`.\n",
        "\n",
        "**Examples:**\n",
        "```python\n",
        "is_raining = True\n",
        "has_permission = False\n",
        "```\n",
        "\n",
        "**Perspectives:**\n",
        "\n",
        "### 1. Conditional Statements\n",
        "- Booleans are used in conditional statements to control the flow of the program.\n",
        "  ```python\n",
        "  if is_raining:\n",
        "      print(\"Take an umbrella\")\n",
        "  else:\n",
        "      print(\"No need for an umbrella\")\n",
        "  ```\n"
      ],
      "id": "dAyuH87C8fFQ"
    },
    {
      "cell_type": "code",
      "metadata": {
        "id": "8I0T8-kx8fFQ"
      },
      "source": [
        "# Conditional Statements\n",
        "is_raining = True\n",
        "if is_raining:\n",
        "    print('Take an umbrella')\n",
        "else:\n",
        "    print('No need for an umbrella')\n"
      ],
      "id": "8I0T8-kx8fFQ",
      "execution_count": null,
      "outputs": []
    },
    {
      "cell_type": "markdown",
      "metadata": {
        "id": "rjDbyY8X8fFQ"
      },
      "source": [
        "### 2. Logical Operations\n",
        "- Using logical operators to combine boolean expressions.\n",
        "  ```python\n",
        "  age = 20\n",
        "  has_id = True\n",
        "  can_enter = age >= 18 and has_id\n",
        "  print(\"Can enter:\", can_enter)\n",
        "  ```\n"
      ],
      "id": "rjDbyY8X8fFQ"
    },
    {
      "cell_type": "code",
      "metadata": {
        "id": "LPc5LOC_8fFQ"
      },
      "source": [
        "# Logical Operations\n",
        "age = 20\n",
        "has_id = True\n",
        "can_enter = age >= 18 and has_id\n",
        "print('Can enter:', can_enter)\n"
      ],
      "id": "LPc5LOC_8fFQ",
      "execution_count": null,
      "outputs": []
    },
    {
      "cell_type": "markdown",
      "metadata": {
        "id": "HdOIMuIn8fFQ"
      },
      "source": [
        "### 3. Real-Life Application - User Authentication\n",
        "- Checking user credentials.\n",
        "  ```python\n",
        "  username = \"admin\"\n",
        "  password = \"1234\"\n",
        "  is_authenticated = username == \"admin\" and password == \"1234\"\n",
        "  print(\"Authenticated:\", is_authenticated)\n",
        "  ```\n"
      ],
      "id": "HdOIMuIn8fFQ"
    },
    {
      "cell_type": "code",
      "metadata": {
        "colab": {
          "base_uri": "https://localhost:8080/"
        },
        "id": "Xv_oqTx08fFR",
        "outputId": "f92e8300-bea3-4497-bce7-97baa81c7e77"
      },
      "source": [
        "# User Authentication\n",
        "username = 'admin'\n",
        "password = '1234'\n",
        "is_authenticated = username == 'admin' and password == '1234'\n",
        "print('Authenticated:', is_authenticated)\n"
      ],
      "id": "Xv_oqTx08fFR",
      "execution_count": null,
      "outputs": [
        {
          "output_type": "stream",
          "name": "stdout",
          "text": [
            "Authenticated: True\n"
          ]
        }
      ]
    },
    {
      "cell_type": "markdown",
      "metadata": {
        "id": "2JP_6g5W8fFR"
      },
      "source": [
        "## 4. Strings\n",
        "\n",
        "**Definition:**\n",
        "- Strings are sequences of characters used to represent text data.\n",
        "\n",
        "**Examples:**\n",
        "```python\n",
        "name = \"Alice\"\n",
        "greeting = \"Hello, World!\"\n",
        "```\n",
        "\n",
        "**Perspectives:**\n",
        "\n",
        "### 1. Concatenation\n",
        "- Combining strings using the `+` operator.\n",
        "  ```python\n",
        "  first_name = \"John\"\n",
        "  last_name = \"Doe\"\n",
        "  full_name = first_name + \" \" + last_name\n",
        "  print(\"Full Name:\", full_name)\n",
        "  ```\n"
      ],
      "id": "2JP_6g5W8fFR"
    },
    {
      "cell_type": "code",
      "metadata": {
        "id": "ZkJNnNgy8fFR"
      },
      "source": [
        "# Concatenation\n",
        "first_name = 'John'\n",
        "last_name = 'Doe'\n",
        "full_name = first_name + ' ' + last_name\n",
        "print('Full Name:', full_name)\n"
      ],
      "id": "ZkJNnNgy8fFR",
      "execution_count": null,
      "outputs": []
    },
    {
      "cell_type": "markdown",
      "metadata": {
        "id": "Oq4M1nmM8fFR"
      },
      "source": [
        "### 2. Slicing\n",
        "- Extracting parts of a string using indices.\n",
        "  ```python\n",
        "  message = \"Hello, World!\"\n",
        "  greeting = message[0:5]\n",
        "  print(\"Greeting:\", greeting)\n",
        "  ```\n"
      ],
      "id": "Oq4M1nmM8fFR"
    },
    {
      "cell_type": "code",
      "metadata": {
        "id": "SYQO0Fzt8fFS"
      },
      "source": [
        "# Slicing\n",
        "message = 'Hello, World!'\n",
        "greeting = message[0:5]\n",
        "print('Greeting:', greeting)\n"
      ],
      "id": "SYQO0Fzt8fFS",
      "execution_count": null,
      "outputs": []
    },
    {
      "cell_type": "markdown",
      "metadata": {
        "id": "gnhbXVCf8fFS"
      },
      "source": [
        "### 3. Formatting\n",
        "- Inserting variables into strings using the `format` method or f-strings.\n",
        "  ```python\n",
        "  age = 25\n",
        "  formatted_string = \"I am {} years old\".format(age)\n",
        "  print(formatted_string)\n",
        "\n",
        "  # Using f-string (Python 3.6+)\n",
        "  f_string = f\"I am {age} years old\"\n",
        "  print(f_string)\n",
        "  ```\n"
      ],
      "id": "gnhbXVCf8fFS"
    },
    {
      "cell_type": "code",
      "metadata": {
        "id": "fm-riUWb8fFS"
      },
      "source": [
        "# Formatting\n",
        "age = 25\n",
        "formatted_string = 'I am {} years old'.format(age)\n",
        "print(formatted_string)\n",
        "\n",
        "# Using f-string (Python 3.6+)\n",
        "f_string = f'I am {age} years old'\n",
        "print(f_string)\n"
      ],
      "id": "fm-riUWb8fFS",
      "execution_count": null,
      "outputs": []
    },
    {
      "cell_type": "markdown",
      "metadata": {
        "id": "SdZDnDxt8fFS"
      },
      "source": [
        "### 4. String Methods\n",
        "- Using built-in string methods to manipulate text.\n",
        "  ```python\n",
        "  text = \"Python Programming\"\n",
        "  lower_text = text.lower()\n",
        "  upper_text = text.upper()\n",
        "  print(\"Lowercase:\", lower_text)\n",
        "  print(\"Uppercase:\", upper_text)\n",
        "  ```\n"
      ],
      "id": "SdZDnDxt8fFS"
    },
    {
      "cell_type": "code",
      "metadata": {
        "id": "vC_uVxC48fFT"
      },
      "source": [
        "# String Methods\n",
        "text = 'Python Programming'\n",
        "lower_text = text.lower()\n",
        "upper_text = text.upper()\n",
        "print('Lowercase:', lower_text)\n",
        "print('Uppercase:', upper_text)\n"
      ],
      "id": "vC_uVxC48fFT",
      "execution_count": null,
      "outputs": []
    },
    {
      "cell_type": "markdown",
      "metadata": {
        "id": "BEhJVxKN8fFT"
      },
      "source": [
        "**Real-Life Example:**\n",
        "- **Problem:** Format a personalized welcome message.\n",
        "  ```python\n",
        "  user_name = \"Alice\"  # String\n",
        "  welcome_message = f\"Hello, {user_name}! Welcome to our platform.\"  # f-string formatting\n",
        "  print(welcome_message)\n",
        "  ```\n"
      ],
      "id": "BEhJVxKN8fFT"
    },
    {
      "cell_type": "code",
      "metadata": {
        "id": "QUgrSwAg8fFT"
      },
      "source": [
        "# Real-Life Example\n",
        "user_name = 'Alice'  # String\n",
        "welcome_message = f'Hello, {user_name}! Welcome to our platform.'  # f-string formatting\n",
        "print(welcome_message)\n"
      ],
      "id": "QUgrSwAg8fFT",
      "execution_count": null,
      "outputs": []
    },
    {
      "cell_type": "markdown",
      "metadata": {
        "id": "BNsibAs98fFT"
      },
      "source": [
        "## 5. Operators, Variables, and Keywords\n",
        "\n",
        "**Definition:**\n",
        "\n",
        "- **Operators:** Symbols that perform operations on variables and values (e.g., `+`, `-`, `*`, `/`).\n",
        "- **Variables:** Names that store data values.\n",
        "- **Keywords:** Reserved words in Python with special meanings (e.g., `if`, `else`, `while`, `def`).\n",
        "\n",
        "**Examples:**\n",
        "```python\n",
        "# Operator\n",
        "x = 10 + 5\n",
        "\n",
        "# Variable\n",
        "name = \"Alice\"\n",
        "\n",
        "# Keyword\n",
        "if x > 10:\n",
        "    print(\"x is greater than 10\")\n",
        "```\n"
      ],
      "id": "BNsibAs98fFT"
    },
    {
      "cell_type": "code",
      "metadata": {
        "id": "c6h_WSTr8fFZ"
      },
      "source": [
        "# Operators, Variables, and Keywords\n",
        "# Operator\n",
        "x = 10 + 5\n",
        "\n",
        "# Variable\n",
        "name = 'Alice'\n",
        "\n",
        "# Keyword\n",
        "if x > 10:\n",
        "    print('x is greater than 10')\n"
      ],
      "id": "c6h_WSTr8fFZ",
      "execution_count": null,
      "outputs": []
    },
    {
      "cell_type": "markdown",
      "metadata": {
        "id": "aRQAsEDm8fFa"
      },
      "source": [
        "**Perspectives:**\n",
        "\n",
        "### 1. Arithmetic Operators\n",
        "- Used to perform basic arithmetic operations.\n",
        "  ```python\n",
        "  a = 10\n",
        "  b = 3\n",
        "  sum_ab = a + b  # Addition\n",
        "  diff_ab = a - b  # Subtraction\n",
        "  prod_ab = a * b  # Multiplication\n",
        "  div_ab = a / b  # Division\n",
        "  print(\"Sum:\", sum_ab, \"Difference:\", diff_ab, \"Product:\", prod_ab, \"Quotient:\", div_ab)\n",
        "  ```\n"
      ],
      "id": "aRQAsEDm8fFa"
    },
    {
      "cell_type": "code",
      "metadata": {
        "id": "apb8gili8fFa"
      },
      "source": [
        "# Arithmetic Operators\n",
        "a = 10\n",
        "b = 3\n",
        "sum_ab = a + b  # Addition\n",
        "diff_ab = a - b  # Subtraction\n",
        "prod_ab = a * b  # Multiplication\n",
        "div_ab = a / b  # Division\n",
        "print('Sum:', sum_ab, 'Difference:', diff_ab, 'Product:', prod_ab, 'Quotient:', div_ab)\n"
      ],
      "id": "apb8gili8fFa",
      "execution_count": null,
      "outputs": []
    },
    {
      "cell_type": "markdown",
      "metadata": {
        "id": "b2eoFQT68fFb"
      },
      "source": [
        "### 2. Comparison Operators\n",
        "- Used to compare values.\n",
        "  ```python\n",
        "  x = 5\n",
        "  y = 10\n",
        "  print(x > y)  # False\n",
        "  print(x < y)  # True\n",
        "  ```\n"
      ],
      "id": "b2eoFQT68fFb"
    },
    {
      "cell_type": "code",
      "metadata": {
        "id": "vu5U8MkP8fFb"
      },
      "source": [
        "# Comparison Operators\n",
        "x = 5\n",
        "y = 10\n",
        "print(x > y)  # False\n",
        "print(x < y)  # True\n"
      ],
      "id": "vu5U8MkP8fFb",
      "execution_count": null,
      "outputs": []
    },
    {
      "cell_type": "markdown",
      "metadata": {
        "id": "hT0aofxB8fFb"
      },
      "source": [
        "### 3. Assignment Operators\n",
        "- Used to assign values to variables.\n",
        "  ```python\n",
        "  x = 5\n",
        "  x += 3  # Equivalent to x = x + 3\n",
        "  print(x)  # 8\n",
        "  ```\n"
      ],
      "id": "hT0aofxB8fFb"
    },
    {
      "cell_type": "code",
      "metadata": {
        "id": "kL7bmrTe8fFb"
      },
      "source": [
        "# Assignment Operators\n",
        "x = 5\n",
        "x += 3  # Equivalent to x = x + 3\n",
        "print(x)  # 8\n"
      ],
      "id": "kL7bmrTe8fFb",
      "execution_count": null,
      "outputs": []
    },
    {
      "cell_type": "markdown",
      "metadata": {
        "id": "X1_9zX6e8fFc"
      },
      "source": [
        "### 4. Logical Operators\n",
        "- Used to combine conditional statements.\n",
        "  ```python\n",
        "  age = 20\n",
        "  has_id = True\n",
        "  can_enter = age >= 18 and has_id\n",
        "  print(\"Can enter:\", can_enter)  # True\n",
        "  ```\n"
      ],
      "id": "X1_9zX6e8fFc"
    },
    {
      "cell_type": "code",
      "metadata": {
        "id": "GOFcHaSi8fFc"
      },
      "source": [
        "# Logical Operators\n",
        "age = 20\n",
        "has_id = True\n",
        "can_enter = age >= 18 and has_id\n",
        "print('Can enter:', can_enter)  # True\n"
      ],
      "id": "GOFcHaSi8fFc",
      "execution_count": null,
      "outputs": []
    },
    {
      "cell_type": "markdown",
      "metadata": {
        "id": "MFsDV4st8fFc"
      },
      "source": [
        "### 5. Real-Life Application - Variable Usage\n",
        "- Using variables to store and manipulate data.\n",
        "  ```python\n",
        "  length = 5  # Variable\n",
        "  width = 3   # Variable\n",
        "  area = length * width  # Operator and Expression\n",
        "  print(\"Area of the rectangle:\", area)  # Statement\n",
        "  ```\n"
      ],
      "id": "MFsDV4st8fFc"
    },
    {
      "cell_type": "code",
      "metadata": {
        "id": "silgQ5Ys8fFc"
      },
      "source": [
        "# Real-Life Application - Variable Usage\n",
        "length = 5  # Variable\n",
        "width = 3   # Variable\n",
        "area = length * width  # Operator and Expression\n",
        "print('Area of the rectangle:', area)  # Statement\n"
      ],
      "id": "silgQ5Ys8fFc",
      "execution_count": null,
      "outputs": []
    },
    {
      "cell_type": "markdown",
      "metadata": {
        "id": "OOtG7Qri8fFd"
      },
      "source": [
        "### 6. Control Flow with Keywords\n",
        "- Using keywords to control the flow of the program.\n",
        "  ```python\n",
        "  age = 18\n",
        "  if age >= 18:\n",
        "      print(\"Eligible to vote\")\n",
        "  else:\n",
        "      print(\"Not eligible to vote\")\n",
        "  ```\n"
      ],
      "id": "OOtG7Qri8fFd"
    },
    {
      "cell_type": "code",
      "metadata": {
        "id": "Xeg8QRqJ8fFd"
      },
      "source": [
        "# Control Flow with Keywords\n",
        "age = 18\n",
        "if age >= 18:\n",
        "    print('Eligible to vote')\n",
        "else:\n",
        "    print('Not eligible to vote')\n"
      ],
      "id": "Xeg8QRqJ8fFd",
      "execution_count": null,
      "outputs": []
    },
    {
      "cell_type": "markdown",
      "metadata": {
        "id": "fOqvzeWP8fFd"
      },
      "source": [
        "## 6. Fundamental String Operations\n",
        "\n",
        "**Definition:**\n",
        "- Operations performed on strings, such as concatenation, slicing, and formatting.\n",
        "\n",
        "**Examples:**\n",
        "```python\n",
        "# Concatenation\n",
        "greeting = \"Hello\" + \" World!\"\n",
        "\n",
        "# Slicing\n",
        "substring = \"Hello, World!\"[0:5]\n",
        "\n",
        "# Formatting\n",
        "message = \"{} is {}\".format(\"Python\", \"awesome\")\n",
        "f_message = f\"{name} is {status}\"\n",
        "```\n"
      ],
      "id": "fOqvzeWP8fFd"
    },
    {
      "cell_type": "code",
      "metadata": {
        "id": "LPxUoZ_48fFe"
      },
      "source": [
        "# Fundamental String Operations\n",
        "# Concatenation\n",
        "greeting = 'Hello' + ' World!'\n",
        "\n",
        "# Slicing\n",
        "substring = 'Hello, World!'[0:5]\n",
        "\n",
        "# Formatting\n",
        "message = '{} is {}'.format('Python', 'awesome')\n",
        "f_message = f'{name} is {status}'\n"
      ],
      "id": "LPxUoZ_48fFe",
      "execution_count": null,
      "outputs": []
    },
    {
      "cell_type": "markdown",
      "metadata": {
        "id": "g-Yrbhhu8fFe"
      },
      "source": [
        "**Perspectives:**\n",
        "\n",
        "### 1. Concatenation\n",
        "- Combining strings using the `+` operator.\n",
        "  ```python\n",
        "  first_name = \"John\"\n",
        "  last_name = \"Doe\"\n",
        "  full_name = first_name + \" \" + last_name\n",
        "  print(\"Full Name:\", full_name)\n",
        "  ```\n"
      ],
      "id": "g-Yrbhhu8fFe"
    },
    {
      "cell_type": "code",
      "metadata": {
        "id": "-wnmlHsO8fFf"
      },
      "source": [
        "# Concatenation\n",
        "first_name = 'John'\n",
        "last_name = 'Doe'\n",
        "full_name = first_name + ' ' + last_name\n",
        "print('Full Name:', full_name)\n"
      ],
      "id": "-wnmlHsO8fFf",
      "execution_count": null,
      "outputs": []
    },
    {
      "cell_type": "markdown",
      "metadata": {
        "id": "Sl7QML9q8fFf"
      },
      "source": [
        "### 2. Slicing\n",
        "- Extracting parts of a string using indices.\n",
        "  ```python\n",
        "  message = \"Hello, World!\"\n",
        "  greeting = message[0:5]\n",
        "  print(\"Greeting:\", greeting)\n",
        "  ```\n"
      ],
      "id": "Sl7QML9q8fFf"
    },
    {
      "cell_type": "code",
      "metadata": {
        "id": "HNoXcMFY8fFg"
      },
      "source": [
        "# Slicing\n",
        "message = 'Hello, World!'\n",
        "greeting = message[0:5]\n",
        "print('Greeting:', greeting)\n"
      ],
      "id": "HNoXcMFY8fFg",
      "execution_count": null,
      "outputs": []
    },
    {
      "cell_type": "markdown",
      "metadata": {
        "id": "ZefOBks58fFg"
      },
      "source": [
        "### 3. Formatting\n",
        "- Inserting variables into strings using the `format` method or f-strings.\n",
        "  ```python\n",
        "  age = 25\n",
        "  formatted_string = \"I am {} years old\".format(age)\n",
        "  print(formatted_string)\n",
        "\n",
        "  # Using f-string (Python 3.6+)\n",
        "  f_string = f\"I am {age} years old\"\n",
        "  print(f_string)\n",
        "  ```\n"
      ],
      "id": "ZefOBks58fFg"
    },
    {
      "cell_type": "code",
      "metadata": {
        "id": "hawF8G4j8fFh"
      },
      "source": [
        "# Formatting\n",
        "age = 25\n",
        "formatted_string = 'I am {} years old'.format(age)\n",
        "print(formatted_string)\n",
        "\n",
        "# Using f-string (Python 3.6+)\n",
        "f_string = f'I am {age} years old'\n",
        "print(f_string)\n"
      ],
      "id": "hawF8G4j8fFh",
      "execution_count": null,
      "outputs": []
    },
    {
      "cell_type": "markdown",
      "metadata": {
        "id": "B6zzu56j8fFh"
      },
      "source": [
        "### 4. String Methods\n",
        "- Using built-in string methods to manipulate text.\n",
        "  ```python\n",
        "  text = \"Python Programming\"\n",
        "  lower_text = text.lower()\n",
        "  upper_text = text.upper()\n",
        "  print(\"Lowercase:\", lower_text)\n",
        "  print(\"Uppercase:\", upper_text)\n",
        "  ```\n"
      ],
      "id": "B6zzu56j8fFh"
    },
    {
      "cell_type": "code",
      "metadata": {
        "id": "p0nWsX4p8fFh"
      },
      "source": [
        "# String Methods\n",
        "text = 'Python Programming'\n",
        "lower_text = text.lower()\n",
        "upper_text = text.upper()\n",
        "print('Lowercase:', lower_text)\n",
        "print('Uppercase:', upper_text)\n"
      ],
      "id": "p0nWsX4p8fFh",
      "execution_count": null,
      "outputs": []
    },
    {
      "cell_type": "markdown",
      "metadata": {
        "id": "rJVlwqz_8fFi"
      },
      "source": [
        "**Real-Life Example:**\n",
        "- **Problem:** Format a personalized welcome message.\n",
        "  ```python\n",
        "  user_name = \"Alice\"  # String\n",
        "  welcome_message = f\"Hello, {user_name}! Welcome to our platform.\"  # f-string formatting\n",
        "  print(welcome_message)\n",
        "  ```\n"
      ],
      "id": "rJVlwqz_8fFi"
    },
    {
      "cell_type": "code",
      "metadata": {
        "id": "-N2qeWa_8fFi"
      },
      "source": [
        "# Real-Life Example\n",
        "user_name = 'Alice'  # String\n",
        "welcome_message = f'Hello, {user_name}! Welcome to our platform.'  # f-string formatting\n",
        "print(welcome_message)\n"
      ],
      "id": "-N2qeWa_8fFi",
      "execution_count": null,
      "outputs": []
    },
    {
      "cell_type": "markdown",
      "metadata": {
        "id": "V62AmA1f8fFj"
      },
      "source": [
        "## 7. Input and Type Casting\n",
        "\n",
        "**Definition:**\n",
        "- **Input:** Getting data from the user using the `input()` function.\n",
        "- **Type Casting:** Converting data from one type to another using functions like `int()`, `float()`, `str()`.\n",
        "\n",
        "**Examples:**\n",
        "```python\n",
        "# Input\n",
        "name = input(\"Enter your name: \")\n",
        "\n",
        "# Type Casting\n",
        "age = int(input(\"Enter your age: \"))\n",
        "```\n"
      ],
      "id": "V62AmA1f8fFj"
    },
    {
      "cell_type": "code",
      "metadata": {
        "id": "1B1LQiRI8fFj"
      },
      "source": [
        "# Input and Type Casting\n",
        "# Input\n",
        "name = input('Enter your name: ')\n",
        "\n",
        "# Type Casting\n",
        "age = int(input('Enter your age: '))\n"
      ],
      "id": "1B1LQiRI8fFj",
      "execution_count": null,
      "outputs": []
    },
    {
      "cell_type": "markdown",
      "metadata": {
        "id": "t9xhs7wg8fFk"
      },
      "source": [
        "**Perspectives:**\n",
        "\n",
        "### 1. User Input\n",
        "- Taking input from the user and processing it.\n",
        "  ```python\n",
        "  name = input(\"Enter your name: \")\n",
        "  print(f\"Hello, {name}!\")\n",
        "  ```\n"
      ],
      "id": "t9xhs7wg8fFk"
    },
    {
      "cell_type": "code",
      "metadata": {
        "id": "n4Q5EhLD8fFk"
      },
      "source": [
        "# User Input\n",
        "name = input('Enter your name: ')\n",
        "print(f'Hello, {name}!')\n"
      ],
      "id": "n4Q5EhLD8fFk",
      "execution_count": null,
      "outputs": []
    },
    {
      "cell_type": "markdown",
      "metadata": {
        "id": "89X0mgAF8fFl"
      },
      "source": [
        "### 2. Type Conversion\n",
        "- Converting input data to the required type.\n",
        "  ```python\n",
        "  age = int(input(\"Enter your age: \"))\n",
        "  next_year_age = age + 1\n",
        "  print(f\"Next year, you will be {next_year_age} years old.\")\n",
        "  ```\n"
      ],
      "id": "89X0mgAF8fFl"
    },
    {
      "cell_type": "code",
      "metadata": {
        "id": "gxVaOyXP8fFl"
      },
      "source": [
        "# Type Conversion\n",
        "age = int(input('Enter your age: '))\n",
        "next_year_age = age + 1\n",
        "print(f'Next year, you will be {next_year_age} years old.')\n"
      ],
      "id": "gxVaOyXP8fFl",
      "execution_count": null,
      "outputs": []
    },
    {
      "cell_type": "markdown",
      "metadata": {
        "id": "l8JF8HqS8fFm"
      },
      "source": [
        "### 3. Validating Input\n",
        "- Ensuring the input data is valid.\n",
        "  ```python\n",
        "  try:\n",
        "      age = int(input(\"Enter your age: \"))\n",
        "      print(f\"You are {age} years old.\")\n",
        "  except ValueError:\n",
        "      print(\"Invalid input. Please enter a valid number.\")\n",
        "  ```\n"
      ],
      "id": "l8JF8HqS8fFm"
    },
    {
      "cell_type": "code",
      "metadata": {
        "id": "jsMUrMwc8fFm"
      },
      "source": [
        "# Validating Input\n",
        "try:\n",
        "    age = int(input('Enter your age: '))\n",
        "    print(f'You are {age} years old.')\n",
        "except ValueError:\n",
        "    print('Invalid input. Please enter a valid number.')\n"
      ],
      "id": "jsMUrMwc8fFm",
      "execution_count": null,
      "outputs": []
    },
    {
      "cell_type": "markdown",
      "metadata": {
        "id": "XNKMSFae8fFn"
      },
      "source": [
        "**Real-Life Example:**\n",
        "- **Problem:** Calculate how old someone will be next year.\n",
        "  ```python\n",
        "  current_age = int(input(\"Enter your current age: \"))  # Input and Type Casting\n",
        "  next_year_age = current_age + 1  # Expression\n",
        "  print(\"Next year, you will be:\", next_year_age)  # Statement\n",
        "  ```\n"
      ],
      "id": "XNKMSFae8fFn"
    },
    {
      "cell_type": "code",
      "metadata": {
        "id": "S-u6K9I38fFn"
      },
      "source": [
        "# Real-Life Example\n",
        "current_age = int(input('Enter your current age: '))  # Input and Type Casting\n",
        "next_year_age = current_age + 1  # Expression\n",
        "print('Next year, you will be:', next_year_age)  # Statement\n"
      ],
      "id": "S-u6K9I38fFn",
      "execution_count": null,
      "outputs": []
    },
    {
      "cell_type": "markdown",
      "metadata": {
        "id": "Oap0j5Hr8fFn"
      },
      "source": [
        "## 8. Comments\n",
        "\n",
        "**Definition:**\n",
        "- Non-executable text in the code used to explain and document the code.\n",
        "\n",
        "**Examples:**\n",
        "```python\n",
        "# Single-line comment\n",
        "# This is a comment\n",
        "\n",
        "# Multi-line comment\n",
        "\"\"\"\n",
        "This is a multi-line comment.\n",
        "It can span multiple lines.\n",
        "\"\"\"\n",
        "```\n"
      ],
      "id": "Oap0j5Hr8fFn"
    },
    {
      "cell_type": "code",
      "metadata": {
        "id": "FpPBfZIP8fFn"
      },
      "source": [
        "# Comments\n",
        "# Single-line comment\n",
        "# This is a comment\n",
        "\n",
        "# Multi-line comment\n",
        "\"\"\"\n",
        "This is a multi-line comment.\n",
        "It can span multiple lines.\n",
        "\"\"\"\n"
      ],
      "id": "FpPBfZIP8fFn",
      "execution_count": null,
      "outputs": []
    },
    {
      "cell_type": "markdown",
      "metadata": {
        "id": "ZNRToSLK8fFo"
      },
      "source": [
        "**Perspectives:**\n",
        "\n",
        "### 1. Single-Line Comments\n",
        "- Used to explain individual lines of code.\n",
        "  ```python\n",
        "  x = 10  # Assign 10 to x\n",
        "  y = 20  # Assign 20 to y\n",
        "  sum_xy = x + y  # Calculate the sum of x and y\n",
        "  print(\"Sum:\", sum_xy)  # Print the result\n",
        "  ```\n"
      ],
      "id": "ZNRToSLK8fFo"
    },
    {
      "cell_type": "code",
      "metadata": {
        "id": "lIe1cE0-8fFq"
      },
      "source": [
        "# Single-Line Comments\n",
        "x = 10  # Assign 10 to x\n",
        "y = 20  # Assign 20 to y\n",
        "sum_xy = x + y  # Calculate the sum of x and y\n",
        "print('Sum:', sum_xy)  # Print the result\n"
      ],
      "id": "lIe1cE0-8fFq",
      "execution_count": null,
      "outputs": []
    },
    {
      "cell_type": "markdown",
      "metadata": {
        "id": "SqVGCFiZ8fFr"
      },
      "source": [
        "### 2. Multi-Line Comments\n",
        "- Used to provide detailed explanations or document sections of code.\n",
        "  ```python\n",
        "  \"\"\"\n",
        "  This function calculates the area of a rectangle.\n",
        "  It takes two parameters:\n",
        "  - length: The length of the rectangle\n",
        "  - width: The width of the rectangle\n",
        "  \"\"\"\n",
        "  def calculate_area(length, width):\n",
        "      return length * width\n",
        "\n",
        "  area = calculate_area(5, 3)\n",
        "  print(\"Area:\", area)\n",
        "  ```\n"
      ],
      "id": "SqVGCFiZ8fFr"
    },
    {
      "cell_type": "code",
      "metadata": {
        "id": "srp06vQc8fFr"
      },
      "source": [
        "# Multi-Line Comments\n",
        "\"\"\"\n",
        "This function calculates the area of a rectangle.\n",
        "It takes two parameters:\n",
        "- length: The length of the rectangle\n",
        "- width: The width of the rectangle\n",
        "\"\"\"\n",
        "def calculate_area(length, width):\n",
        "    return length * width\n",
        "\n",
        "area = calculate_area(5, 3)\n",
        "print('Area:', area)\n"
      ],
      "id": "srp06vQc8fFr",
      "execution_count": null,
      "outputs": []
    },
    {
      "cell_type": "markdown",
      "metadata": {
        "id": "pmPIpv9i8fFs"
      },
      "source": [
        "### 3. Documentation Strings (Docstrings)\n",
        "- Special multi-line comments used to document functions, classes, and modules.\n",
        "  ```python\n",
        "  def greet(name):\n",
        "      \"\"\"\n",
        "      This function greets the person with the provided name.\n",
        "      :param name: The name of the person to greet\n",
        "      \"\"\"\n",
        "      print(f\"Hello, {name}!\")\n",
        "\n",
        "  greet(\"Alice\")\n",
        "  ```\n"
      ],
      "id": "pmPIpv9i8fFs"
    },
    {
      "cell_type": "code",
      "metadata": {
        "id": "U6qRemmX8fFs"
      },
      "source": [
        "# Documentation Strings (Docstrings)\n",
        "def greet(name):\n",
        "    \"\"\"\n",
        "    This function greets the person with the provided name.\n",
        "    :param name: The name of the person to greet\n",
        "    \"\"\"\n",
        "    print(f'Hello, {name}!')\n",
        "\n",
        "greet('Alice')\n"
      ],
      "id": "U6qRemmX8fFs",
      "execution_count": null,
      "outputs": []
    },
    {
      "cell_type": "markdown",
      "metadata": {
        "id": "WoidSAvR8fFs"
      },
      "source": [
        "**Real-Life Example:**\n",
        "- **Problem:** Document a function that calculates the area of a rectangle.\n",
        "  ```python\n",
        "  # This function calculates the area of a rectangle.\n",
        "  def calculate_area(length, width):\n",
        "      return length * width\n",
        "\n",
        "  area = calculate_area(5, 3)\n",
        "  print(\"Area:\", area)\n",
        "  ```\n"
      ],
      "id": "WoidSAvR8fFs"
    },
    {
      "cell_type": "code",
      "metadata": {
        "id": "qUt2u6CC8fFt"
      },
      "source": [
        "# Real-Life Example\n",
        "# This function calculates the area of a rectangle.\n",
        "def calculate_area(length, width):\n",
        "    return length * width\n",
        "\n",
        "area = calculate_area(5, 3)\n",
        "print('Area:', area)\n"
      ],
      "id": "qUt2u6CC8fFt",
      "execution_count": null,
      "outputs": []
    },
    {
      "cell_type": "markdown",
      "metadata": {
        "id": "prdDUCKF8fFt"
      },
      "source": [
        "## 9. Lists\n",
        "\n",
        "**Definition:**\n",
        "- Ordered collections of items that can be of different types.\n",
        "\n",
        "**Examples:**\n",
        "```python\n",
        "# Creating a list\n",
        "shopping_list = ['apples', 'bananas', 'milk']\n",
        "\n",
        "# Accessing elements\n",
        "first_item = shopping_list[0]\n",
        "\n",
        "# Adding elements\n",
        "shopping_list.append('bread')\n",
        "```\n"
      ],
      "id": "prdDUCKF8fFt"
    },
    {
      "cell_type": "code",
      "metadata": {
        "id": "BJgpzfUr8fFt"
      },
      "source": [
        "# Lists\n",
        "# Creating a list\n",
        "shopping_list = ['apples', 'bananas', 'milk']\n",
        "\n",
        "# Accessing elements\n",
        "first_item = shopping_list[0]\n",
        "\n",
        "# Adding elements\n",
        "shopping_list.append('bread')\n"
      ],
      "id": "BJgpzfUr8fFt",
      "execution_count": null,
      "outputs": []
    },
    {
      "cell_type": "markdown",
      "metadata": {
        "id": "19zB08bJ8fFt"
      },
      "source": [
        "**Perspectives:**\n",
        "\n",
        "### 1. Storing Multiple Values\n",
        "- Lists are used to store multiple values in a single variable.\n",
        "  ```python\n",
        "  numbers = [1, 2, 3, 4, 5]\n",
        "  print(\"Numbers:\", numbers)\n",
        "  ```\n"
      ],
      "id": "19zB08bJ8fFt"
    },
    {
      "cell_type": "code",
      "metadata": {
        "id": "FHvSRUeZ8fFu"
      },
      "source": [
        "# Storing Multiple Values\n",
        "numbers = [1, 2, 3, 4, 5]\n",
        "print('Numbers:', numbers)\n"
      ],
      "id": "FHvSRUeZ8fFu",
      "execution_count": null,
      "outputs": []
    },
    {
      "cell_type": "markdown",
      "metadata": {
        "id": "inUfPHex8fFu"
      },
      "source": [
        "### 2. Manipulating Lists\n",
        "- Adding, removing, and modifying elements in a list.\n",
        "  ```python\n",
        "  fruits = ['apple', 'banana', 'cherry']\n",
        "  fruits.append('date')  # Add 'date' to the list\n",
        "  fruits.remove('banana')  # Remove 'banana' from the list\n",
        "  fruits[0] = 'avocado'  # Replace 'apple' with 'avocado'\n",
        "  print(\"Fruits:\", fruits)\n",
        "  ```\n"
      ],
      "id": "inUfPHex8fFu"
    },
    {
      "cell_type": "code",
      "metadata": {
        "id": "JzVd10I38fFu"
      },
      "source": [
        "# Manipulating Lists\n",
        "fruits = ['apple', 'banana', 'cherry']\n",
        "fruits.append('date')  # Add 'date' to the list\n",
        "fruits.remove('banana')  # Remove 'banana' from the list\n",
        "fruits[0] = 'avocado'  # Replace 'apple' with 'avocado'\n",
        "print('Fruits:', fruits)\n"
      ],
      "id": "JzVd10I38fFu",
      "execution_count": null,
      "outputs": []
    },
    {
      "cell_type": "markdown",
      "metadata": {
        "id": "efKd2NiG8fFu"
      },
      "source": [
        "### 3. Iterating Over Lists\n",
        "- Using loops to process elements in a list.\n",
        "  ```python\n",
        "  for fruit in fruits:\n",
        "      print(\"I like\", fruit)\n",
        "  ```\n"
      ],
      "id": "efKd2NiG8fFu"
    },
    {
      "cell_type": "code",
      "metadata": {
        "id": "sMZumA0O8fFu"
      },
      "source": [
        "# Iterating Over Lists\n",
        "for fruit in fruits:\n",
        "    print('I like', fruit)\n"
      ],
      "id": "sMZumA0O8fFu",
      "execution_count": null,
      "outputs": []
    },
    {
      "cell_type": "markdown",
      "metadata": {
        "id": "BuZ19Uq68fFv"
      },
      "source": [
        "### 4. Nested Lists\n",
        "- Creating lists of lists to represent complex data structures.\n",
        "  ```python\n",
        "  matrix = [\n",
        "      [1, 2, 3],\n",
        "      [4, 5, 6],\n",
        "      [7, 8, 9]\n",
        "  ]\n",
        "  print(\"Matrix:\", matrix)\n",
        "  ```\n"
      ],
      "id": "BuZ19Uq68fFv"
    },
    {
      "cell_type": "code",
      "metadata": {
        "id": "Cg946QZb8fFv"
      },
      "source": [
        "# Nested Lists\n",
        "matrix = [\n",
        "    [1, 2, 3],\n",
        "    [4, 5, 6],\n",
        "    [7, 8, 9]\n",
        "]\n",
        "print('Matrix:', matrix)\n"
      ],
      "id": "Cg946QZb8fFv",
      "execution_count": null,
      "outputs": []
    },
    {
      "cell_type": "markdown",
      "metadata": {
        "id": "oBICVz1F8fFv"
      },
      "source": [
        "**Real-Life Example:**\n",
        "- **Problem:** Manage a shopping list.\n",
        "  ```python\n",
        "  shopping_list = ['apples', 'bananas', 'milk']  # List\n",
        "  shopping_list.append('bread')  # Add item\n",
        "  print(\"Shopping List:\", shopping_list)  # Print list\n",
        "  ```\n"
      ],
      "id": "oBICVz1F8fFv"
    },
    {
      "cell_type": "code",
      "metadata": {
        "id": "XN64cXdC8fFv"
      },
      "source": [
        "# Real-Life Example\n",
        "shopping_list = ['apples', 'bananas', 'milk']  # List\n",
        "shopping_list.append('bread')  # Add item\n",
        "print('Shopping List:', shopping_list)  # Print list\n"
      ],
      "id": "XN64cXdC8fFv",
      "execution_count": null,
      "outputs": []
    },
    {
      "cell_type": "markdown",
      "metadata": {
        "id": "9IEnXzQe8fFw"
      },
      "source": [
        "## 10. Tuples\n",
        "\n",
        "**Definition:**\n",
        "- Ordered, immutable collections of items.\n",
        "\n",
        "**Examples:**\n",
        "```python\n",
        "# Creating a tuple\n",
        "coordinates = (10.0, 20.0)\n",
        "\n",
        "# Accessing elements\n",
        "first_coordinate = coordinates[0]\n",
        "```\n"
      ],
      "id": "9IEnXzQe8fFw"
    },
    {
      "cell_type": "code",
      "metadata": {
        "id": "7aQfSpee8fFw"
      },
      "source": [
        "# Tuples\n",
        "# Creating a tuple\n",
        "coordinates = (10.0, 20.0)\n",
        "\n",
        "# Accessing elements\n",
        "first_coordinate = coordinates[0]\n"
      ],
      "id": "7aQfSpee8fFw",
      "execution_count": null,
      "outputs": []
    },
    {
      "cell_type": "markdown",
      "metadata": {
        "id": "5Fr8nDcG8fFw"
      },
      "source": [
        "**Perspectives:**\n",
        "\n",
        "### 1. Storing Fixed Data\n",
        "- Tuples are used to store data that should not change.\n",
        "  ```python\n",
        "  point = (2, 3)\n",
        "  print(\"Point coordinates:\", point)\n",
        "  ```\n"
      ],
      "id": "5Fr8nDcG8fFw"
    },
    {
      "cell_type": "code",
      "metadata": {
        "id": "3WXVjS638fFw"
      },
      "source": [
        "# Storing Fixed Data\n",
        "point = (2, 3)\n",
        "print('Point coordinates:', point)\n"
      ],
      "id": "3WXVjS638fFw",
      "execution_count": null,
      "outputs": []
    },
    {
      "cell_type": "markdown",
      "metadata": {
        "id": "AR4DIfLZ8fFw"
      },
      "source": [
        "### 2. Returning Multiple Values\n",
        "- Using tuples to return multiple values from a function.\n",
        "  ```python\n",
        "  def divide(x, y):\n",
        "      quotient = x // y\n",
        "      remainder = x % y\n",
        "      return quotient, remainder\n",
        "\n",
        "  q, r = divide(10, 3)\n",
        "  print(\"Quotient:\", q, \"Remainder:\", r)\n",
        "  ```\n"
      ],
      "id": "AR4DIfLZ8fFw"
    },
    {
      "cell_type": "code",
      "metadata": {
        "id": "djez6Uq68fFx"
      },
      "source": [
        "# Returning Multiple Values\n",
        "def divide(x, y):\n",
        "    quotient = x // y\n",
        "    remainder = x % y\n",
        "    return quotient, remainder\n",
        "\n",
        "q, r = divide(10, 3)\n",
        "print('Quotient:', q, 'Remainder:', r)\n"
      ],
      "id": "djez6Uq68fFx",
      "execution_count": null,
      "outputs": []
    },
    {
      "cell_type": "markdown",
      "metadata": {
        "id": "t4NHUvvh8fFx"
      },
      "source": [
        "### 3. Using Tuples as Keys in Dictionaries\n",
        "- Tuples can be used as keys in dictionaries due to their immutability.\n",
        "  ```python\n",
        "  location = {(40.7128, -74.0060): \"New York\", (34.0522, -118.2437): \"Los Angeles\"}\n",
        "  print(\"Location:\", location)\n",
        "  ```\n"
      ],
      "id": "t4NHUvvh8fFx"
    },
    {
      "cell_type": "code",
      "metadata": {
        "id": "tITuJl7b8fFx"
      },
      "source": [
        "# Using Tuples as Keys in Dictionaries\n",
        "location = {(40.7128, -74.0060): 'New York', (34.0522, -118.2437): 'Los Angeles'}\n",
        "print('Location:', location)\n"
      ],
      "id": "tITuJl7b8fFx",
      "execution_count": null,
      "outputs": []
    },
    {
      "cell_type": "markdown",
      "metadata": {
        "id": "RNiipH6A8fFx"
      },
      "source": [
        "**Real-Life Example:**\n",
        "- **Problem:** Store coordinates of a location.\n",
        "  ```python\n",
        "  coordinates = (10.0, 20.0)  # Tuple\n",
        "  print(\"Coordinates:\", coordinates)  # Print tuple\n",
        "  ```\n"
      ],
      "id": "RNiipH6A8fFx"
    },
    {
      "cell_type": "code",
      "metadata": {
        "id": "qS7QlRnf8fFy"
      },
      "source": [
        "# Real-Life Example\n",
        "coordinates = (10.0, 20.0)  # Tuple\n",
        "print('Coordinates:', coordinates)  # Print tuple\n"
      ],
      "id": "qS7QlRnf8fFy",
      "execution_count": null,
      "outputs": []
    },
    {
      "cell_type": "markdown",
      "metadata": {
        "id": "Tk_WchZ88fFy"
      },
      "source": [
        "## 11. Dictionaries\n",
        "\n",
        "**Definition:**\n",
        "- Unordered collections of key-value pairs.\n",
        "\n",
        "**Examples:**\n",
        "```python\n",
        "# Creating a dictionary\n",
        "person = {'name': 'Alice', 'age': 25}\n",
        "\n",
        "# Accessing elements\n",
        "name = person['name']\n",
        "\n",
        "# Adding elements\n",
        "person['city'] = 'New York'\n",
        "```\n"
      ],
      "id": "Tk_WchZ88fFy"
    },
    {
      "cell_type": "code",
      "metadata": {
        "id": "ZrgXugzD8fFy"
      },
      "source": [
        "# Dictionaries\n",
        "# Creating a dictionary\n",
        "person = {'name': 'Alice', 'age': 25}\n",
        "\n",
        "# Accessing elements\n",
        "name = person['name']\n",
        "\n",
        "# Adding elements\n",
        "person['city'] = 'New York'\n"
      ],
      "id": "ZrgXugzD8fFy",
      "execution_count": null,
      "outputs": []
    },
    {
      "cell_type": "markdown",
      "metadata": {
        "id": "VWZ1VEf_8fFy"
      },
      "source": [
        "**Perspectives:**\n",
        "\n",
        "### 1. Storing Key-Value Pairs\n",
        "- Dictionaries store data in key-value pairs for fast lookups.\n",
        "  ```python\n",
        "  capitals = {'USA': 'Washington, D.C.', 'France': 'Paris', 'Japan': 'Tokyo'}\n",
        "  print(\"Capitals:\", capitals)\n",
        "  ```\n"
      ],
      "id": "VWZ1VEf_8fFy"
    },
    {
      "cell_type": "code",
      "metadata": {
        "id": "5c8sBV4Z8fFy"
      },
      "source": [
        "# Storing Key-Value Pairs\n",
        "capitals = {'USA': 'Washington, D.C.', 'France': 'Paris', 'Japan': 'Tokyo'}\n",
        "print('Capitals:', capitals)\n"
      ],
      "id": "5c8sBV4Z8fFy",
      "execution_count": null,
      "outputs": []
    },
    {
      "cell_type": "markdown",
      "metadata": {
        "id": "LcO8pEvf8fFz"
      },
      "source": [
        "### 2. Dynamic Data Structure\n",
        "- Adding and removing key-value pairs dynamically.\n",
        "  ```python\n",
        "  person = {'name': 'Alice', 'age': 25}\n",
        "  person['city'] = 'New York'  # Add a new key-value pair\n",
        "  del person['age']  # Remove a key-value pair\n",
        "  print(\"Person:\", person)\n",
        "  ```\n"
      ],
      "id": "LcO8pEvf8fFz"
    },
    {
      "cell_type": "code",
      "metadata": {
        "id": "9Rp6KBcG8fFz"
      },
      "source": [
        "# Dynamic Data Structure\n",
        "person = {'name': 'Alice', 'age': 25}\n",
        "person['city'] = 'New York'  # Add a new key-value pair\n",
        "del person['age']  # Remove a key-value pair\n",
        "print('Person:', person)\n"
      ],
      "id": "9Rp6KBcG8fFz",
      "execution_count": null,
      "outputs": []
    },
    {
      "cell_type": "markdown",
      "metadata": {
        "id": "WzBLyi_78fFz"
      },
      "source": [
        "### 3. Iterating Over Dictionaries\n",
        "- Using loops to process key-value pairs in a dictionary.\n",
        "  ```python\n",
        "  for country, capital in capitals.items():\n",
        "      print(f\"The capital of {country} is {capital}\")\n",
        "  ```\n"
      ],
      "id": "WzBLyi_78fFz"
    },
    {
      "cell_type": "code",
      "metadata": {
        "id": "QCCfHdRQ8fFz"
      },
      "source": [
        "# Iterating Over Dictionaries\n",
        "for country, capital in capitals.items():\n",
        "    print(f'The capital of {country} is {capital}')\n"
      ],
      "id": "QCCfHdRQ8fFz",
      "execution_count": null,
      "outputs": []
    },
    {
      "cell_type": "markdown",
      "metadata": {
        "id": "Xy-g7Nd48fF0"
      },
      "source": [
        "**Real-Life Example:**\n",
        "- **Problem:** Store information about a person.\n",
        "  ```python\n",
        "  person = {'name': 'Alice', 'age': 25}  # Dictionary\n",
        "  print(\"Person:\", person)  # Print dictionary\n",
        "  ```\n"
      ],
      "id": "Xy-g7Nd48fF0"
    },
    {
      "cell_type": "code",
      "metadata": {
        "id": "vKIi8Ckv8fF0"
      },
      "source": [
        "# Real-Life Example\n",
        "person = {'name': 'Alice', 'age': 25}  # Dictionary\n",
        "print('Person:', person)  # Print dictionary\n"
      ],
      "id": "vKIi8Ckv8fF0",
      "execution_count": null,
      "outputs": []
    },
    {
      "cell_type": "markdown",
      "metadata": {
        "id": "64WMdw7d8fF0"
      },
      "source": [
        "## 12. Sets\n",
        "\n",
        "**Definition:**\n",
        "- Unordered collections of unique items.\n",
        "\n",
        "**Examples:**\n",
        "```python\n",
        "# Creating a set\n",
        "my_set = {1, 2, 3, 'a', 'b', 'c'}\n",
        "\n",
        "# Adding elements\n",
        "my_set.add('d')\n",
        "\n",
        "# Membership testing\n",
        "is_member = 'a' in my_set\n",
        "```\n"
      ],
      "id": "64WMdw7d8fF0"
    },
    {
      "cell_type": "code",
      "metadata": {
        "id": "2-oC4WUd8fF0"
      },
      "source": [
        "# Sets\n",
        "# Creating a set\n",
        "my_set = {1, 2, 3, 'a', 'b', 'c'}\n",
        "\n",
        "# Adding elements\n",
        "my_set.add('d')\n",
        "\n",
        "# Membership testing\n",
        "is_member = 'a' in my_set\n"
      ],
      "id": "2-oC4WUd8fF0",
      "execution_count": null,
      "outputs": []
    },
    {
      "cell_type": "markdown",
      "metadata": {
        "id": "kUk6OS_U8fF0"
      },
      "source": [
        "**Perspectives:**\n",
        "\n",
        "### 1. Storing Unique Items\n",
        "- Sets store unique items, automatically removing duplicates.\n",
        "  ```python\n",
        "  items = ['apple', 'banana', 'apple', 'cherry']\n",
        "  unique_items = set(items)\n",
        "  print(\"Unique Items:\", unique_items)\n",
        "  ```\n"
      ],
      "id": "kUk6OS_U8fF0"
    },
    {
      "cell_type": "code",
      "metadata": {
        "id": "61CkM25j8fF1"
      },
      "source": [
        "# Storing Unique Items\n",
        "items = ['apple', 'banana', 'apple', 'cherry']\n",
        "unique_items = set(items)\n",
        "print('Unique Items:', unique_items)\n"
      ],
      "id": "61CkM25j8fF1",
      "execution_count": null,
      "outputs": []
    },
    {
      "cell_type": "markdown",
      "metadata": {
        "id": "EFvc3vBk8fF1"
      },
      "source": [
        "### 2. Set Operations\n",
        "- Performing operations like union, intersection, and difference.\n",
        "  ```python\n",
        "  set1 = {1, 2, 3}\n",
        "  set2 = {3, 4, 5}\n",
        "  union_set = set1 | set2  # Union\n",
        "  intersection_set = set1 & set2  # Intersection\n",
        "  difference_set = set1 - set2  # Difference\n",
        "  print(\"Union:\", union_set)\n",
        "  print(\"Intersection:\", intersection_set)\n",
        "  print(\"Difference:\", difference_set)\n",
        "  ```\n"
      ],
      "id": "EFvc3vBk8fF1"
    },
    {
      "cell_type": "code",
      "metadata": {
        "id": "0imzKO7s8fF1"
      },
      "source": [
        "# Set Operations\n",
        "set1 = {1, 2, 3}\n",
        "set2 = {3, 4, 5}\n",
        "union_set = set1 | set2  # Union\n",
        "intersection_set = set1 & set2  # Intersection\n",
        "difference_set = set1 - set2  # Difference\n",
        "print('Union:', union_set)\n",
        "print('Intersection:', intersection_set)\n",
        "print('Difference:', difference_set)\n"
      ],
      "id": "0imzKO7s8fF1",
      "execution_count": null,
      "outputs": []
    },
    {
      "cell_type": "markdown",
      "metadata": {
        "id": "TrtbC9LS8fF1"
      },
      "source": [
        "### 3. Membership Testing\n",
        "- Checking if an item is in a set.\n",
        "  ```python\n",
        "  fruits = {'apple', 'banana', 'cherry'}\n",
        "  print('apple' in fruits)  # True\n",
        "  print('grape' in fruits)  # False\n",
        "  ```\n"
      ],
      "id": "TrtbC9LS8fF1"
    },
    {
      "cell_type": "code",
      "metadata": {
        "id": "WJ0GlQLX8fF1"
      },
      "source": [
        "# Membership Testing\n",
        "fruits = {'apple', 'banana', 'cherry'}\n",
        "print('apple' in fruits)  # True\n",
        "print('grape' in fruits)  # False\n"
      ],
      "id": "WJ0GlQLX8fF1",
      "execution_count": null,
      "outputs": []
    },
    {
      "cell_type": "markdown",
      "metadata": {
        "id": "coH18dev8fF2"
      },
      "source": [
        "**Real-Life Example:**\n",
        "- **Problem:** Find unique items in a list.\n",
        "  ```python\n",
        "  items = ['apple', 'banana', 'apple', 'cherry']  # List with duplicates\n",
        "  unique_items = set(items)  # Set to remove duplicates\n",
        "  print(\"Unique Items:\", unique_items)  # Print unique items\n",
        "  ```\n"
      ],
      "id": "coH18dev8fF2"
    },
    {
      "cell_type": "code",
      "metadata": {
        "id": "UDSkMZOa8fF2"
      },
      "source": [
        "# Real-Life Example\n",
        "items = ['apple', 'banana', 'apple', 'cherry']  # List with duplicates\n",
        "unique_items = set(items)  # Set to remove duplicates\n",
        "print('Unique Items:', unique_items)  # Print unique items\n"
      ],
      "id": "UDSkMZOa8fF2",
      "execution_count": null,
      "outputs": []
    }
  ],
  "metadata": {
    "kernelspec": {
      "display_name": "Python 3",
      "language": "python",
      "name": "python3"
    },
    "language_info": {
      "codemirror_mode": {
        "name": "ipython",
        "version": 3
      },
      "file_extension": ".py",
      "mimetype": "text/x-python",
      "name": "python",
      "nbconvert_exporter": "python",
      "pygments_lexer": "ipython3",
      "version": "3.9.7"
    },
    "colab": {
      "provenance": []
    }
  },
  "nbformat": 4,
  "nbformat_minor": 5
}