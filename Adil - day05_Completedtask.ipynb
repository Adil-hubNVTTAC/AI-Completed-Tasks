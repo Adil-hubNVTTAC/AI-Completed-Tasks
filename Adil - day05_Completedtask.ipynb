{
  "cells": [
    {
      "cell_type": "markdown",
      "metadata": {
        "id": "ZZ7PfF_Cl7b-"
      },
      "source": [
        "# Class Task: Python Programming Concepts"
      ],
      "id": "ZZ7PfF_Cl7b-"
    },
    {
      "cell_type": "markdown",
      "metadata": {
        "id": "HTezCxyXl7cF"
      },
      "source": [
        "## Task 1: List Comprehension and Iterables"
      ],
      "id": "HTezCxyXl7cF"
    },
    {
      "cell_type": "markdown",
      "metadata": {
        "id": "8AkrRJdEl7cI"
      },
      "source": [
        "### List Comprehension"
      ],
      "id": "8AkrRJdEl7cI"
    },
    {
      "cell_type": "markdown",
      "metadata": {
        "id": "OMqF1xhtl7cN"
      },
      "source": [
        "1. Write a list comprehension to generate a list of the squares of the first 10 natural numbers (i.e., 1^2, 2^2, ..., 10^2).\n",
        "2. Use a conditional list comprehension to generate a list of all even numbers from 1 to 20."
      ],
      "id": "OMqF1xhtl7cN"
    },
    {
      "cell_type": "code",
      "execution_count": 3,
      "metadata": {
        "colab": {
          "base_uri": "https://localhost:8080/"
        },
        "id": "3WLIAJazl7cP",
        "outputId": "098591df-2c11-4cb8-ba18-418fa165f734"
      },
      "outputs": [
        {
          "output_type": "stream",
          "name": "stdout",
          "text": [
            "[1, 4, 9, 16, 25, 36, 49, 64, 81, 100]\n"
          ]
        }
      ],
      "source": [
        "# Solution for Task 1.1\n",
        "squares = [x**2 for x in range(1, 11)]\n",
        "print(squares)"
      ],
      "id": "3WLIAJazl7cP"
    },
    {
      "cell_type": "code",
      "execution_count": 4,
      "metadata": {
        "colab": {
          "base_uri": "https://localhost:8080/"
        },
        "id": "GhkmigrOl7cU",
        "outputId": "0c187a2f-134d-4357-9538-563017881c8b"
      },
      "outputs": [
        {
          "output_type": "stream",
          "name": "stdout",
          "text": [
            "[2, 4, 6, 8, 10, 12, 14, 16, 18, 20]\n"
          ]
        }
      ],
      "source": [
        "# Solution for Task 1.2\n",
        "evens = [x for x in range(1, 21) if x % 2 == 0]\n",
        "print(evens)"
      ],
      "id": "GhkmigrOl7cU"
    },
    {
      "cell_type": "markdown",
      "metadata": {
        "id": "eILpHvNfl7cV"
      },
      "source": [
        "### Iterables and Iterators"
      ],
      "id": "eILpHvNfl7cV"
    },
    {
      "cell_type": "markdown",
      "metadata": {
        "id": "4Te98LjOl7cX"
      },
      "source": [
        "1. Create a list of the first 5 Fibonacci numbers. Use an iterator to print each number.\n",
        "2. Write a generator function that yields the squares of numbers from 1 to 5. Use a for loop to print each generated value."
      ],
      "id": "4Te98LjOl7cX"
    },
    {
      "cell_type": "code",
      "execution_count": 6,
      "metadata": {
        "colab": {
          "base_uri": "https://localhost:8080/"
        },
        "id": "lzDOk38al7cZ",
        "outputId": "ab09b3d3-569c-4806-adf3-aa9b001f9cc2"
      },
      "outputs": [
        {
          "output_type": "stream",
          "name": "stdout",
          "text": [
            "0\n",
            "1\n",
            "1\n",
            "2\n",
            "3\n"
          ]
        }
      ],
      "source": [
        "# Solution for Task 1.3\n",
        "def fibonacci_iterator(count):\n",
        "    a, b = 0, 1\n",
        "    for _ in range(count):\n",
        "        yield a\n",
        "        a, b = b, a + b\n",
        "\n",
        "# Using the iterator function to print the first 5 Fibonacci numbers\n",
        "for num in fibonacci_iterator(5):\n",
        "    print(num)"
      ],
      "id": "lzDOk38al7cZ"
    },
    {
      "cell_type": "code",
      "execution_count": 2,
      "metadata": {
        "colab": {
          "base_uri": "https://localhost:8080/"
        },
        "id": "AFy9OY10l7cb",
        "outputId": "0368d793-c7ba-4626-893d-03c87e8491c9"
      },
      "outputs": [
        {
          "output_type": "stream",
          "name": "stdout",
          "text": [
            "1\n",
            "4\n",
            "9\n",
            "16\n",
            "25\n"
          ]
        }
      ],
      "source": [
        "# Solution for Task 1.4\n",
        "def square_generator():\n",
        "    for i in range(1, 6):\n",
        "        yield i ** 2\n",
        "\n",
        "# Using a for loop to print each generated square\n",
        "for square in square_generator():\n",
        "    print(square)"
      ],
      "id": "AFy9OY10l7cb"
    },
    {
      "cell_type": "markdown",
      "metadata": {
        "id": "__jPR9JGl7cc"
      },
      "source": [
        "## Task 2: Functions and Variable Scope"
      ],
      "id": "__jPR9JGl7cc"
    },
    {
      "cell_type": "markdown",
      "metadata": {
        "id": "vv4cDWy-l7cd"
      },
      "source": [
        "### Functions"
      ],
      "id": "vv4cDWy-l7cd"
    },
    {
      "cell_type": "markdown",
      "metadata": {
        "id": "L89Ts8v2l7ce"
      },
      "source": [
        "1. Write a function `is_even(n)` that returns `True` if `n` is an even number, and `False` otherwise.\n",
        "2. Create a function `calculate_rectangle_area` that takes the width and height of a rectangle and returns its area."
      ],
      "id": "L89Ts8v2l7ce"
    },
    {
      "cell_type": "code",
      "execution_count": 8,
      "metadata": {
        "id": "13BYw6rHl7cf"
      },
      "outputs": [],
      "source": [
        "# Solution for Task 2.1\n",
        "def is_even(n):\n",
        "    return n % 2 == 0\n",
        "    print(is_even(4))"
      ],
      "id": "13BYw6rHl7cf"
    },
    {
      "cell_type": "code",
      "execution_count": 15,
      "metadata": {
        "id": "FANMjkinl7cg"
      },
      "outputs": [],
      "source": [
        "# Solution for Task 2.2\n",
        "def calculate_rectangle_area(width, height):\n",
        "    area = width * height\n",
        "    return area\n",
        "    area1 = calculate_rectangle_area(5, 3)\n",
        "    print(\"Area 1:\", area1)"
      ],
      "id": "FANMjkinl7cg"
    },
    {
      "cell_type": "markdown",
      "metadata": {
        "id": "T4-lj13Zl7ch"
      },
      "source": [
        "### Variable Scope"
      ],
      "id": "T4-lj13Zl7ch"
    },
    {
      "cell_type": "markdown",
      "metadata": {
        "id": "s1wWXmBZl7ci"
      },
      "source": [
        "1. Write a function that modifies a global variable. Demonstrate the function and print the global variable before and after calling the function.\n",
        "2. Create a nested function where the inner function accesses a variable defined in the outer function. Demonstrate the functionality."
      ],
      "id": "s1wWXmBZl7ci"
    },
    {
      "cell_type": "code",
      "execution_count": 16,
      "metadata": {
        "colab": {
          "base_uri": "https://localhost:8080/"
        },
        "id": "peXWQa5_l7cj",
        "outputId": "fc139ab9-54a3-49f6-8a8c-4b0676d490e0"
      },
      "outputs": [
        {
          "output_type": "stream",
          "name": "stdout",
          "text": [
            "Global variable before: 10\n",
            "Global variable after: 20\n"
          ]
        }
      ],
      "source": [
        "# Solution for Task 2.3\n",
        "# Define a global variable\n",
        "global_var = 10\n",
        "\n",
        "# Function to modify the global variable\n",
        "def modify_global_variable():\n",
        "    global global_var\n",
        "    global_var = 20\n",
        "\n",
        "# Print the global variable before modification\n",
        "print(\"Global variable before:\", global_var)\n",
        "\n",
        "# Call the function to modify the global variable\n",
        "modify_global_variable()\n",
        "\n",
        "# Print the global variable after modification\n",
        "print(\"Global variable after:\", global_var)"
      ],
      "id": "peXWQa5_l7cj"
    },
    {
      "cell_type": "code",
      "execution_count": 17,
      "metadata": {
        "colab": {
          "base_uri": "https://localhost:8080/"
        },
        "id": "MMzeNZH2l7ck",
        "outputId": "5835a584-39fe-4511-8c01-9c7f5af63b68"
      },
      "outputs": [
        {
          "output_type": "stream",
          "name": "stdout",
          "text": [
            "Inner function accessing: I'm defined in outer function\n"
          ]
        }
      ],
      "source": [
        "# Solution for Task 2.4\n",
        "def outer_function():\n",
        "    outer_variable = \"I'm defined in outer function\"\n",
        "\n",
        "    def inner_function():\n",
        "        print(\"Inner function accessing:\", outer_variable)\n",
        "\n",
        "    # Call inner function\n",
        "    inner_function()\n",
        "\n",
        "# Call outer function\n",
        "outer_function()"
      ],
      "id": "MMzeNZH2l7ck"
    },
    {
      "cell_type": "markdown",
      "metadata": {
        "id": "92ZAKNhzl7ck"
      },
      "source": [
        "## Task 3: File Handling and Exception Handling"
      ],
      "id": "92ZAKNhzl7ck"
    },
    {
      "cell_type": "markdown",
      "metadata": {
        "id": "z4lrC4Knl7cl"
      },
      "source": [
        "### File Handling"
      ],
      "id": "z4lrC4Knl7cl"
    },
    {
      "cell_type": "markdown",
      "metadata": {
        "id": "FTrKdadDl7cm"
      },
      "source": [
        "1. Write a program that writes the first 10 natural numbers to a file named `numbers.txt`, each number on a new line.\n",
        "2. Read the content of the file `numbers.txt` and print it to the console."
      ],
      "id": "FTrKdadDl7cm"
    },
    {
      "cell_type": "code",
      "execution_count": 18,
      "metadata": {
        "colab": {
          "base_uri": "https://localhost:8080/"
        },
        "id": "AJI_iqRll7cm",
        "outputId": "c30343ae-705d-4033-c370-b1c65f8fff33"
      },
      "outputs": [
        {
          "output_type": "stream",
          "name": "stdout",
          "text": [
            "Successfully wrote the first 10 natural numbers to 'numbers.txt'.\n"
          ]
        }
      ],
      "source": [
        "# Solution for Task 3.1\n",
        "\n",
        "def write_numbers_to_file(filename):\n",
        "    # Open the file in write mode\n",
        "    with open(filename, 'w') as file:\n",
        "        # Write numbers 1 to 10 to the file, each on a new line\n",
        "        for number in range(1, 11):\n",
        "            file.write(f\"{number}\\n\")\n",
        "\n",
        "# Name of the file to write\n",
        "filename = \"numbers.txt\"\n",
        "\n",
        "# Call the function to write numbers to the file\n",
        "write_numbers_to_file(filename)\n",
        "\n",
        "print(f\"Successfully wrote the first 10 natural numbers to '{filename}'.\")"
      ],
      "id": "AJI_iqRll7cm"
    },
    {
      "cell_type": "code",
      "execution_count": 19,
      "metadata": {
        "colab": {
          "base_uri": "https://localhost:8080/"
        },
        "id": "r8g27Kibl7cp",
        "outputId": "69014ce3-40db-4530-883c-cb8224c002c6"
      },
      "outputs": [
        {
          "output_type": "stream",
          "name": "stdout",
          "text": [
            "1\n",
            "2\n",
            "3\n",
            "4\n",
            "5\n",
            "6\n",
            "7\n",
            "8\n",
            "9\n",
            "10\n"
          ]
        }
      ],
      "source": [
        "# Solution for Task 3.2\n",
        "def read_numbers_from_file(filename):\n",
        "    # Open the file in read mode\n",
        "    with open(filename, 'r') as file:\n",
        "        # Read all lines from the file\n",
        "        lines = file.readlines()\n",
        "        # Print each line (number) to the console\n",
        "        for line in lines:\n",
        "            # Strip any extra whitespace, including newline characters\n",
        "            print(line.strip())\n",
        "\n",
        "# Name of the file to read\n",
        "filename = \"numbers.txt\"\n",
        "\n",
        "# Call the function to read and print numbers from the file\n",
        "read_numbers_from_file(filename)"
      ],
      "id": "r8g27Kibl7cp"
    },
    {
      "cell_type": "markdown",
      "metadata": {
        "id": "QYE0JnBDl7cp"
      },
      "source": [
        "### Exception Handling"
      ],
      "id": "QYE0JnBDl7cp"
    },
    {
      "cell_type": "markdown",
      "metadata": {
        "id": "1p7Y3AOAl7cq"
      },
      "source": [
        "1. Modify the file reading program to handle the case where the file does not exist. Print an appropriate message if the file is not found.\n",
        "2. Write a function that takes a list of numbers and returns their average. Use exception handling to manage cases where the list is empty or contains non-numeric values."
      ],
      "id": "1p7Y3AOAl7cq"
    },
    {
      "cell_type": "code",
      "execution_count": null,
      "metadata": {
        "id": "sN4klKgwl7cq"
      },
      "outputs": [],
      "source": [
        "# Solution for Task 3.3\n",
        "def read_numbers_from_file(filename):\n",
        "    try:\n",
        "        # Open the file in read mode\n",
        "        with open(filename, 'r') as file:\n",
        "            # Read all lines from the file\n",
        "            lines = file.readlines()\n",
        "            # Print each line (number) to the console\n",
        "            for line in lines:\n",
        "                # Strip any extra whitespace, including newline characters\n",
        "                print(line.strip())\n",
        "    except FileNotFoundError:\n",
        "        print(f\"Error: The file '{filename}' does not exist.\")\n",
        "\n",
        "# Name of the file to read\n",
        "filename = \"numbers.txt\"\n",
        "\n",
        "# Call the function to read and print numbers from the file\n",
        "read_numbers_from_file(filename)"
      ],
      "id": "sN4klKgwl7cq"
    },
    {
      "cell_type": "code",
      "execution_count": 20,
      "metadata": {
        "colab": {
          "base_uri": "https://localhost:8080/"
        },
        "id": "J-Rl_mybl7cq",
        "outputId": "cdd8b935-d666-49f9-a28b-8c2816f0c2e5"
      },
      "outputs": [
        {
          "output_type": "stream",
          "name": "stdout",
          "text": [
            "Average of numbers1: 3.0\n",
            "The list is empty. Cannot calculate average.\n",
            "Average of numbers2: None\n",
            "Non-numeric value 'a' found in the list.\n",
            "Average of numbers3: None\n",
            "Non-numeric value 'None' found in the list.\n",
            "Average of numbers4: None\n"
          ]
        }
      ],
      "source": [
        "# Solution for Task 3.4\n",
        "def calculate_average(numbers):\n",
        "    try:\n",
        "        # Check if the list is empty\n",
        "        if len(numbers) == 0:\n",
        "            raise ValueError(\"The list is empty. Cannot calculate average.\")\n",
        "\n",
        "        # Convert all elements to float and calculate the sum\n",
        "        sum_numbers = 0\n",
        "        count = 0\n",
        "        for num in numbers:\n",
        "            if isinstance(num, (int, float)):\n",
        "                sum_numbers += float(num)\n",
        "                count += 1\n",
        "            else:\n",
        "                raise TypeError(f\"Non-numeric value '{num}' found in the list.\")\n",
        "\n",
        "        # Calculate the average\n",
        "        average = sum_numbers / count\n",
        "        return average\n",
        "\n",
        "    except ValueError as ve:\n",
        "        print(ve)\n",
        "    except TypeError as te:\n",
        "        print(te)\n",
        "    except ZeroDivisionError:\n",
        "        print(\"Error: Division by zero. Cannot calculate average.\")\n",
        "\n",
        "# Test cases\n",
        "numbers1 = [1, 2, 3, 4, 5]\n",
        "print(\"Average of numbers1:\", calculate_average(numbers1))  # Output: Average of numbers1: 3.0\n",
        "\n",
        "numbers2 = []  # Empty list\n",
        "print(\"Average of numbers2:\", calculate_average(numbers2))  # Output: The list is empty. Cannot calculate average.\n",
        "\n",
        "numbers3 = [1, 2, 'a', 4, 5]  # List with non-numeric value 'a'\n",
        "print(\"Average of numbers3:\", calculate_average(numbers3))  # Output: Non-numeric value 'a' found in the list.\n",
        "\n",
        "numbers4 = [10, 20, None, 30, 40]  # List with None (non-numeric)\n",
        "print(\"Average of numbers4:\", calculate_average(numbers4))  # Output: Non-numeric value 'None' found in the list."
      ],
      "id": "J-Rl_mybl7cq"
    },
    {
      "cell_type": "markdown",
      "metadata": {
        "id": "0vlO6d8_l7cr"
      },
      "source": [
        "## Task 4: Lambda Expressions, Map, and Filter Functions"
      ],
      "id": "0vlO6d8_l7cr"
    },
    {
      "cell_type": "markdown",
      "metadata": {
        "id": "DH9YVTjnl7cr"
      },
      "source": [
        "### Lambda Expressions"
      ],
      "id": "DH9YVTjnl7cr"
    },
    {
      "cell_type": "markdown",
      "metadata": {
        "id": "B5SxK80Vl7cs"
      },
      "source": [
        "1. Use a lambda function with the `map` function to create a list of the squares of numbers from 1 to 5.\n",
        "2. Use a lambda function with the `filter` function to filter out all odd numbers from a list of integers from 1 to 10."
      ],
      "id": "B5SxK80Vl7cs"
    },
    {
      "cell_type": "code",
      "execution_count": 21,
      "metadata": {
        "colab": {
          "base_uri": "https://localhost:8080/"
        },
        "id": "gF6XOoVNl7cs",
        "outputId": "3be0e8ae-a88e-4410-eba7-8d4dd0f6e5fb"
      },
      "outputs": [
        {
          "output_type": "stream",
          "name": "stdout",
          "text": [
            "[1, 4, 9, 16, 25]\n"
          ]
        }
      ],
      "source": [
        "# Solution for Task 4.1\n",
        "# Using lambda function with map to generate squares of numbers from 1 to 5\n",
        "squares = list(map(lambda x: x**2, range(1, 6)))\n",
        "\n",
        "print(squares)"
      ],
      "id": "gF6XOoVNl7cs"
    },
    {
      "cell_type": "code",
      "execution_count": 22,
      "metadata": {
        "colab": {
          "base_uri": "https://localhost:8080/"
        },
        "id": "fHzmR1hTl7ct",
        "outputId": "59fb36da-1cda-4782-90d6-8f653fd46046"
      },
      "outputs": [
        {
          "output_type": "stream",
          "name": "stdout",
          "text": [
            "[2, 4, 6, 8, 10]\n"
          ]
        }
      ],
      "source": [
        "# Solution for Task 4.2\n",
        "# Using lambda function with filter to filter out odd numbers from 1 to 10\n",
        "numbers = range(1, 11)\n",
        "filtered_numbers = list(filter(lambda x: x % 2 == 0, numbers))\n",
        "\n",
        "print(filtered_numbers)"
      ],
      "id": "fHzmR1hTl7ct"
    },
    {
      "cell_type": "markdown",
      "metadata": {
        "id": "Y4Md3Ciel7ct"
      },
      "source": [
        "### Map and Filter Functions"
      ],
      "id": "Y4Md3Ciel7ct"
    },
    {
      "cell_type": "markdown",
      "metadata": {
        "id": "1SWrpXVil7cu"
      },
      "source": [
        "1. Create a list of names. Use the `map` function to convert all names to uppercase.\n",
        "2. Use the `filter` function to create a list of numbers from 1 to 20 that are divisible by 3."
      ],
      "id": "1SWrpXVil7cu"
    },
    {
      "cell_type": "code",
      "execution_count": 23,
      "metadata": {
        "colab": {
          "base_uri": "https://localhost:8080/"
        },
        "id": "42bAzJnEl7cv",
        "outputId": "a3ac7729-c3ee-404b-c600-50451b3b531d"
      },
      "outputs": [
        {
          "output_type": "stream",
          "name": "stdout",
          "text": [
            "['JOHN', 'DOE', 'IAN', 'CHAPPAL', 'STONE']\n"
          ]
        }
      ],
      "source": [
        "# Solution for Task 4.3\n",
        "# List of names\n",
        "names = ['John', 'Doe', 'Ian', 'Chappal', 'Stone']\n",
        "\n",
        "# Use map function to convert all names to uppercase\n",
        "uppercase_names = list(map(str.upper, names))\n",
        "\n",
        "print(uppercase_names)"
      ],
      "id": "42bAzJnEl7cv"
    },
    {
      "cell_type": "code",
      "execution_count": 24,
      "metadata": {
        "colab": {
          "base_uri": "https://localhost:8080/"
        },
        "id": "JyOVw3Gbl7cv",
        "outputId": "3c6a23d4-228f-4269-ae1d-2ffe8b8cf876"
      },
      "outputs": [
        {
          "output_type": "stream",
          "name": "stdout",
          "text": [
            "[3, 6, 9, 12, 15, 18]\n"
          ]
        }
      ],
      "source": [
        "# Solution for Task 4.4\n",
        "# Using filter function to filter numbers from 1 to 20 that are divisible by 3\n",
        "numbers = range(1, 21)\n",
        "divisible_by_3 = list(filter(lambda x: x % 3 == 0, numbers))\n",
        "\n",
        "print(divisible_by_3)"
      ],
      "id": "JyOVw3Gbl7cv"
    }
  ],
  "metadata": {
    "kernelspec": {
      "display_name": "Python 3",
      "language": "python",
      "name": "python3"
    },
    "language_info": {
      "codemirror_mode": {
        "name": "ipython",
        "version": 3
      },
      "file_extension": ".py",
      "mimetype": "text/x-python",
      "name": "python",
      "nbconvert_exporter": "python",
      "pygments_lexer": "ipython3",
      "version": "3.9.13"
    },
    "colab": {
      "provenance": []
    }
  },
  "nbformat": 4,
  "nbformat_minor": 5
}